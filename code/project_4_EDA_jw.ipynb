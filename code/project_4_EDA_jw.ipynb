{
 "cells": [
  {
   "cell_type": "markdown",
   "metadata": {},
   "source": [
    "# Project 4 - Hackathon (Predicting Income under Team Features Constraint)\n",
    "\n",
    "* Choose algorithm and choice of samples\n",
    "* Limited to a maximum of 20 features\n",
    "\n",
    "### This exercise is to build the best model possible under those constraints. \n",
    "\n",
    "### The task is to predict if a person's income is in excess of 50,000 dollars given certain profile information, and more specifically to generate predicted probabilities of income being above 50,000 dollars for each row in the test set. The output will be a .csv file with a single column of the probability with 'wage' as a header. The file is to be submitted by the end of the day.\n",
    "\n",
    "### This section is the EDA portion. The data set is the 'large_train_sample.cvs' file and is provided.\n",
    " "
   ]
  },
  {
   "cell_type": "code",
   "execution_count": 94,
   "metadata": {},
   "outputs": [],
   "source": [
    "#import some important stuff\n",
    "import pandas as pd\n",
    "import numpy as np\n",
    "\n",
    "from scipy import stats\n",
    "\n",
    "import matplotlib.pyplot as plt\n",
    "# import seaborn as sns\n",
    "%matplotlib inline\n",
    "\n"
   ]
  },
  {
   "cell_type": "code",
   "execution_count": 95,
   "metadata": {},
   "outputs": [],
   "source": [
    "# Function cat_tt\n",
    "# t-tests to see if given category's values are significant \n",
    "# Note: code written by Magnus Bigelow\n",
    "def cat_tt(df, col, y, a = 0.05):\n",
    "    # list of unique strings in the column\n",
    "    unique = df[col].unique()\n",
    "    # print H_0 and H_A\n",
    "    print(f'h_0: mean {y} given {col} = x == mean {y} given {col} != x. \\n')\n",
    "    print(f'h_a: mean {y} given {col} = x != mean {y} given {col} != x. \\n')\n",
    "    print(f'Significance level of {a}\\n\\n')\n",
    "    # loop through each unique string\n",
    "    for cat in unique:\n",
    "        # create control that is everything but that string\n",
    "        # trt that is that string for mean of df[y]\n",
    "        ctrl = df.loc[df[col]!=cat,y]\n",
    "        trt = df.loc[df[col]==cat,y]\n",
    "        # create t test\n",
    "        tt = stats.ttest_ind(trt,ctrl,equal_var=False)\n",
    "        # using alpha of 0.05 determine if \n",
    "        # y values for given categorical string are\n",
    "        # significantly different from others\n",
    "        if tt.pvalue < a:\n",
    "            print(f'For {cat} reject h_0: p-value of {tt.pvalue}')\n",
    "        else:\n",
    "            print(f'For {cat} Fail to reject h_0: p-value of {tt.pvalue}')\n"
   ]
  },
  {
   "cell_type": "code",
   "execution_count": 96,
   "metadata": {},
   "outputs": [],
   "source": [
    "# Function: cat_mean_median\n",
    "# t-tests to see if given category's values are significant\n",
    "# Note: code written by Magnus Bigelow\n",
    "def cat_mean_median(df, col, y):\n",
    "    # list of unique strings in the column\n",
    "    unique = df[col].unique()\n",
    "    for cat in unique:\n",
    "        # Get mean and median y\n",
    "        print(f'Mean {y} given {col} == {cat}: {np.round(df[df[col] == cat][y].mean(),3)}')\n",
    "        print(f'Median {y} given {col} == {cat}: {np.round(df[df[col] == cat][y].median(),3)}\\n')"
   ]
  },
  {
   "cell_type": "code",
   "execution_count": 97,
   "metadata": {},
   "outputs": [],
   "source": [
    "# Read in the data (large_train_sample.csv and test_data.csv)\n",
    "\n",
    "df_train_data = pd.read_csv('./data/large_train_sample.csv')\n",
    "df_test_data = pd.read_csv('./data/test_data.csv')\n"
   ]
  },
  {
   "cell_type": "markdown",
   "metadata": {},
   "source": [
    "### Evaluate the training data\n",
    "\n",
    "The link to the data definition can be accesed here [here](https://archive.ics.uci.edu/ml/datasets/adult). "
   ]
  },
  {
   "cell_type": "code",
   "execution_count": 98,
   "metadata": {},
   "outputs": [
    {
     "data": {
      "text/plain": [
       "(32561, 14)"
      ]
     },
     "execution_count": 98,
     "metadata": {},
     "output_type": "execute_result"
    }
   ],
   "source": [
    "# Shape\n",
    "df_train_data.shape"
   ]
  },
  {
   "cell_type": "code",
   "execution_count": 99,
   "metadata": {
    "scrolled": true
   },
   "outputs": [
    {
     "data": {
      "text/html": [
       "<div>\n",
       "<style scoped>\n",
       "    .dataframe tbody tr th:only-of-type {\n",
       "        vertical-align: middle;\n",
       "    }\n",
       "\n",
       "    .dataframe tbody tr th {\n",
       "        vertical-align: top;\n",
       "    }\n",
       "\n",
       "    .dataframe thead th {\n",
       "        text-align: right;\n",
       "    }\n",
       "</style>\n",
       "<table border=\"1\" class=\"dataframe\">\n",
       "  <thead>\n",
       "    <tr style=\"text-align: right;\">\n",
       "      <th></th>\n",
       "      <th>age</th>\n",
       "      <th>workclass</th>\n",
       "      <th>fnlwgt</th>\n",
       "      <th>education</th>\n",
       "      <th>education-num</th>\n",
       "      <th>marital-status</th>\n",
       "      <th>occupation</th>\n",
       "      <th>relationship</th>\n",
       "      <th>sex</th>\n",
       "      <th>capital-gain</th>\n",
       "      <th>capital-loss</th>\n",
       "      <th>hours-per-week</th>\n",
       "      <th>native-country</th>\n",
       "      <th>wage</th>\n",
       "    </tr>\n",
       "  </thead>\n",
       "  <tbody>\n",
       "    <tr>\n",
       "      <th>0</th>\n",
       "      <td>39</td>\n",
       "      <td>State-gov</td>\n",
       "      <td>77516</td>\n",
       "      <td>Bachelors</td>\n",
       "      <td>13</td>\n",
       "      <td>Never-married</td>\n",
       "      <td>Adm-clerical</td>\n",
       "      <td>Not-in-family</td>\n",
       "      <td>Male</td>\n",
       "      <td>2174</td>\n",
       "      <td>0</td>\n",
       "      <td>40</td>\n",
       "      <td>United-States</td>\n",
       "      <td>&lt;=50K</td>\n",
       "    </tr>\n",
       "    <tr>\n",
       "      <th>1</th>\n",
       "      <td>50</td>\n",
       "      <td>Self-emp-not-inc</td>\n",
       "      <td>83311</td>\n",
       "      <td>Bachelors</td>\n",
       "      <td>13</td>\n",
       "      <td>Married-civ-spouse</td>\n",
       "      <td>Exec-managerial</td>\n",
       "      <td>Husband</td>\n",
       "      <td>Male</td>\n",
       "      <td>0</td>\n",
       "      <td>0</td>\n",
       "      <td>13</td>\n",
       "      <td>United-States</td>\n",
       "      <td>&lt;=50K</td>\n",
       "    </tr>\n",
       "    <tr>\n",
       "      <th>2</th>\n",
       "      <td>38</td>\n",
       "      <td>Private</td>\n",
       "      <td>215646</td>\n",
       "      <td>HS-grad</td>\n",
       "      <td>9</td>\n",
       "      <td>Divorced</td>\n",
       "      <td>Handlers-cleaners</td>\n",
       "      <td>Not-in-family</td>\n",
       "      <td>Male</td>\n",
       "      <td>0</td>\n",
       "      <td>0</td>\n",
       "      <td>40</td>\n",
       "      <td>United-States</td>\n",
       "      <td>&lt;=50K</td>\n",
       "    </tr>\n",
       "    <tr>\n",
       "      <th>3</th>\n",
       "      <td>53</td>\n",
       "      <td>Private</td>\n",
       "      <td>234721</td>\n",
       "      <td>11th</td>\n",
       "      <td>7</td>\n",
       "      <td>Married-civ-spouse</td>\n",
       "      <td>Handlers-cleaners</td>\n",
       "      <td>Husband</td>\n",
       "      <td>Male</td>\n",
       "      <td>0</td>\n",
       "      <td>0</td>\n",
       "      <td>40</td>\n",
       "      <td>United-States</td>\n",
       "      <td>&lt;=50K</td>\n",
       "    </tr>\n",
       "    <tr>\n",
       "      <th>4</th>\n",
       "      <td>28</td>\n",
       "      <td>Private</td>\n",
       "      <td>338409</td>\n",
       "      <td>Bachelors</td>\n",
       "      <td>13</td>\n",
       "      <td>Married-civ-spouse</td>\n",
       "      <td>Prof-specialty</td>\n",
       "      <td>Wife</td>\n",
       "      <td>Female</td>\n",
       "      <td>0</td>\n",
       "      <td>0</td>\n",
       "      <td>40</td>\n",
       "      <td>Cuba</td>\n",
       "      <td>&lt;=50K</td>\n",
       "    </tr>\n",
       "  </tbody>\n",
       "</table>\n",
       "</div>"
      ],
      "text/plain": [
       "   age          workclass  fnlwgt   education  education-num  \\\n",
       "0   39          State-gov   77516   Bachelors             13   \n",
       "1   50   Self-emp-not-inc   83311   Bachelors             13   \n",
       "2   38            Private  215646     HS-grad              9   \n",
       "3   53            Private  234721        11th              7   \n",
       "4   28            Private  338409   Bachelors             13   \n",
       "\n",
       "        marital-status          occupation    relationship      sex  \\\n",
       "0        Never-married        Adm-clerical   Not-in-family     Male   \n",
       "1   Married-civ-spouse     Exec-managerial         Husband     Male   \n",
       "2             Divorced   Handlers-cleaners   Not-in-family     Male   \n",
       "3   Married-civ-spouse   Handlers-cleaners         Husband     Male   \n",
       "4   Married-civ-spouse      Prof-specialty            Wife   Female   \n",
       "\n",
       "   capital-gain  capital-loss  hours-per-week  native-country    wage  \n",
       "0          2174             0              40   United-States   <=50K  \n",
       "1             0             0              13   United-States   <=50K  \n",
       "2             0             0              40   United-States   <=50K  \n",
       "3             0             0              40   United-States   <=50K  \n",
       "4             0             0              40            Cuba   <=50K  "
      ]
     },
     "execution_count": 99,
     "metadata": {},
     "output_type": "execute_result"
    }
   ],
   "source": [
    "# First 5 rows of data\n",
    "df_train_data.head()"
   ]
  },
  {
   "cell_type": "code",
   "execution_count": 100,
   "metadata": {},
   "outputs": [
    {
     "data": {
      "text/html": [
       "<div>\n",
       "<style scoped>\n",
       "    .dataframe tbody tr th:only-of-type {\n",
       "        vertical-align: middle;\n",
       "    }\n",
       "\n",
       "    .dataframe tbody tr th {\n",
       "        vertical-align: top;\n",
       "    }\n",
       "\n",
       "    .dataframe thead th {\n",
       "        text-align: right;\n",
       "    }\n",
       "</style>\n",
       "<table border=\"1\" class=\"dataframe\">\n",
       "  <thead>\n",
       "    <tr style=\"text-align: right;\">\n",
       "      <th></th>\n",
       "      <th>age</th>\n",
       "      <th>fnlwgt</th>\n",
       "      <th>education-num</th>\n",
       "      <th>capital-gain</th>\n",
       "      <th>capital-loss</th>\n",
       "      <th>hours-per-week</th>\n",
       "    </tr>\n",
       "  </thead>\n",
       "  <tbody>\n",
       "    <tr>\n",
       "      <th>count</th>\n",
       "      <td>32561.000000</td>\n",
       "      <td>3.256100e+04</td>\n",
       "      <td>32561.000000</td>\n",
       "      <td>32561.000000</td>\n",
       "      <td>32561.000000</td>\n",
       "      <td>32561.000000</td>\n",
       "    </tr>\n",
       "    <tr>\n",
       "      <th>mean</th>\n",
       "      <td>38.581647</td>\n",
       "      <td>1.897784e+05</td>\n",
       "      <td>10.080679</td>\n",
       "      <td>1077.648844</td>\n",
       "      <td>87.303830</td>\n",
       "      <td>40.437456</td>\n",
       "    </tr>\n",
       "    <tr>\n",
       "      <th>std</th>\n",
       "      <td>13.640433</td>\n",
       "      <td>1.055500e+05</td>\n",
       "      <td>2.572720</td>\n",
       "      <td>7385.292085</td>\n",
       "      <td>402.960219</td>\n",
       "      <td>12.347429</td>\n",
       "    </tr>\n",
       "    <tr>\n",
       "      <th>min</th>\n",
       "      <td>17.000000</td>\n",
       "      <td>1.228500e+04</td>\n",
       "      <td>1.000000</td>\n",
       "      <td>0.000000</td>\n",
       "      <td>0.000000</td>\n",
       "      <td>1.000000</td>\n",
       "    </tr>\n",
       "    <tr>\n",
       "      <th>25%</th>\n",
       "      <td>28.000000</td>\n",
       "      <td>1.178270e+05</td>\n",
       "      <td>9.000000</td>\n",
       "      <td>0.000000</td>\n",
       "      <td>0.000000</td>\n",
       "      <td>40.000000</td>\n",
       "    </tr>\n",
       "    <tr>\n",
       "      <th>50%</th>\n",
       "      <td>37.000000</td>\n",
       "      <td>1.783560e+05</td>\n",
       "      <td>10.000000</td>\n",
       "      <td>0.000000</td>\n",
       "      <td>0.000000</td>\n",
       "      <td>40.000000</td>\n",
       "    </tr>\n",
       "    <tr>\n",
       "      <th>75%</th>\n",
       "      <td>48.000000</td>\n",
       "      <td>2.370510e+05</td>\n",
       "      <td>12.000000</td>\n",
       "      <td>0.000000</td>\n",
       "      <td>0.000000</td>\n",
       "      <td>45.000000</td>\n",
       "    </tr>\n",
       "    <tr>\n",
       "      <th>max</th>\n",
       "      <td>90.000000</td>\n",
       "      <td>1.484705e+06</td>\n",
       "      <td>16.000000</td>\n",
       "      <td>99999.000000</td>\n",
       "      <td>4356.000000</td>\n",
       "      <td>99.000000</td>\n",
       "    </tr>\n",
       "  </tbody>\n",
       "</table>\n",
       "</div>"
      ],
      "text/plain": [
       "                age        fnlwgt  education-num  capital-gain  capital-loss  \\\n",
       "count  32561.000000  3.256100e+04   32561.000000  32561.000000  32561.000000   \n",
       "mean      38.581647  1.897784e+05      10.080679   1077.648844     87.303830   \n",
       "std       13.640433  1.055500e+05       2.572720   7385.292085    402.960219   \n",
       "min       17.000000  1.228500e+04       1.000000      0.000000      0.000000   \n",
       "25%       28.000000  1.178270e+05       9.000000      0.000000      0.000000   \n",
       "50%       37.000000  1.783560e+05      10.000000      0.000000      0.000000   \n",
       "75%       48.000000  2.370510e+05      12.000000      0.000000      0.000000   \n",
       "max       90.000000  1.484705e+06      16.000000  99999.000000   4356.000000   \n",
       "\n",
       "       hours-per-week  \n",
       "count    32561.000000  \n",
       "mean        40.437456  \n",
       "std         12.347429  \n",
       "min          1.000000  \n",
       "25%         40.000000  \n",
       "50%         40.000000  \n",
       "75%         45.000000  \n",
       "max         99.000000  "
      ]
     },
     "execution_count": 100,
     "metadata": {},
     "output_type": "execute_result"
    }
   ],
   "source": [
    "# First 5 rows of data\n",
    "df_train_data.describe()"
   ]
  },
  {
   "cell_type": "code",
   "execution_count": 101,
   "metadata": {},
   "outputs": [
    {
     "data": {
      "text/plain": [
       "0"
      ]
     },
     "execution_count": 101,
     "metadata": {},
     "output_type": "execute_result"
    }
   ],
   "source": [
    "df_train_data.isnull().sum().sum()"
   ]
  },
  {
   "cell_type": "markdown",
   "metadata": {},
   "source": [
    "### Initial Analysis:\n",
    "\n",
    "- No null value found\n",
    "- Per the data definition, did not find any issues with the data.\n",
    "\n",
    "- Tasks \n",
    "    - I was asigned to look at the following columns: age, workclass, fnlwgt, education, education-num, marital-status, and occupation.\t \n",
    "    - Change 'wage' to binary where '1' is greater than 50 and '0' for the rest.\n",
    "    - Create 4 sub-classes within the 'workclass' data.\n",
    "    - Remove the 'fnlwgt' column\n",
    "    - Remove the 'education column\n",
    "    - Leave the 'education-num' column alone\n",
    "    - Create dummy values, 0 and 1, for marital-status. 0 = 'married', 1 = 'single'\n",
    "    - Create 4 sub-classes within the 'occupation' data.\n",
    "\n"
   ]
  },
  {
   "cell_type": "code",
   "execution_count": 102,
   "metadata": {
    "scrolled": true
   },
   "outputs": [
    {
     "data": {
      "text/plain": [
       " <=50K    24720\n",
       " >50K      7841\n",
       "Name: wage, dtype: int64"
      ]
     },
     "execution_count": 102,
     "metadata": {},
     "output_type": "execute_result"
    }
   ],
   "source": [
    "# get wage count information\n",
    "df_train_data['wage'].value_counts()"
   ]
  },
  {
   "cell_type": "code",
   "execution_count": 103,
   "metadata": {},
   "outputs": [],
   "source": [
    "# change the wage data into 1, 0 where 1 is > 50\n",
    "\n",
    "df_train_data['wage_1'] = df_train_data['wage'].map(lambda x: 0 if x == ' <=50K' else 1)"
   ]
  },
  {
   "cell_type": "code",
   "execution_count": 104,
   "metadata": {},
   "outputs": [
    {
     "data": {
      "text/plain": [
       "0    24720\n",
       "1     7841\n",
       "Name: wage_1, dtype: int64"
      ]
     },
     "execution_count": 104,
     "metadata": {},
     "output_type": "execute_result"
    }
   ],
   "source": [
    "# check wage count information\n",
    "df_train_data['wage_1'].value_counts()"
   ]
  },
  {
   "cell_type": "markdown",
   "metadata": {},
   "source": [
    "### Age"
   ]
  },
  {
   "cell_type": "code",
   "execution_count": 105,
   "metadata": {},
   "outputs": [
    {
     "data": {
      "text/plain": [
       "count    32561.000000\n",
       "mean        38.581647\n",
       "std         13.640433\n",
       "min         17.000000\n",
       "25%         28.000000\n",
       "50%         37.000000\n",
       "75%         48.000000\n",
       "max         90.000000\n",
       "Name: age, dtype: float64"
      ]
     },
     "execution_count": 105,
     "metadata": {},
     "output_type": "execute_result"
    }
   ],
   "source": [
    "df_train_data['age'].describe()"
   ]
  },
  {
   "cell_type": "code",
   "execution_count": 106,
   "metadata": {},
   "outputs": [
    {
     "name": "stdout",
     "output_type": "stream",
     "text": [
      "<class 'pandas.core.frame.DataFrame'>\n",
      "RangeIndex: 32561 entries, 0 to 32560\n",
      "Data columns (total 15 columns):\n",
      "age               32561 non-null int64\n",
      "workclass         32561 non-null object\n",
      "fnlwgt            32561 non-null int64\n",
      "education         32561 non-null object\n",
      "education-num     32561 non-null int64\n",
      "marital-status    32561 non-null object\n",
      "occupation        32561 non-null object\n",
      "relationship      32561 non-null object\n",
      "sex               32561 non-null object\n",
      "capital-gain      32561 non-null int64\n",
      "capital-loss      32561 non-null int64\n",
      "hours-per-week    32561 non-null int64\n",
      "native-country    32561 non-null object\n",
      "wage              32561 non-null object\n",
      "wage_1            32561 non-null int64\n",
      "dtypes: int64(7), object(8)\n",
      "memory usage: 3.7+ MB\n"
     ]
    }
   ],
   "source": [
    "df_train_data.info()"
   ]
  },
  {
   "cell_type": "code",
   "execution_count": 107,
   "metadata": {},
   "outputs": [
    {
     "data": {
      "image/png": "[encoded data removed]",
      "text/plain": [
       "<Figure size 432x288 with 1 Axes>"
      ]
     },
     "metadata": {
      "needs_background": "light"
     },
     "output_type": "display_data"
    }
   ],
   "source": [
    "plt.boxplot(df_train_data['age']);"
   ]
  },
  {
   "cell_type": "code",
   "execution_count": 108,
   "metadata": {
    "scrolled": true
   },
   "outputs": [
    {
     "data": {
      "image/png": "[encoded data removed]",
      "text/plain": [
       "<Figure size 432x288 with 1 Axes>"
      ]
     },
     "metadata": {
      "needs_background": "light"
     },
     "output_type": "display_data"
    }
   ],
   "source": [
    "plt.hist(df_train_data['age']);"
   ]
  },
  {
   "cell_type": "markdown",
   "metadata": {},
   "source": [
    "Age Analysis: No changes to be made. Data is int, with a min value = 17 and max value = 90. Most of the data centered around 30-50."
   ]
  },
  {
   "cell_type": "markdown",
   "metadata": {},
   "source": [
    "### Workclass\n",
    "\n",
    "After evaluating the workclass data in retation to the wage data, The sub-catagories will be combined into 4 groups.\n",
    "\n",
    "* Private ==> Private\n",
    "* Federal-gov, State-gov, Local-gov  ==> Government\n",
    "* Self-emp-not-inc, Self-emp-inc  ==> Self-employed\n",
    "* ?, Without-pay, Never-worked  ==> Other\n"
   ]
  },
  {
   "cell_type": "code",
   "execution_count": 109,
   "metadata": {},
   "outputs": [
    {
     "name": "stdout",
     "output_type": "stream",
     "text": [
      "h_0: mean wage_1 given workclass = x == mean wage_1 given workclass != x. \n",
      "\n",
      "h_a: mean wage_1 given workclass = x != mean wage_1 given workclass != x. \n",
      "\n",
      "Significance level of 0.05\n",
      "\n",
      "\n",
      "For  State-gov reject h_0: p-value of 0.01007124502165422\n",
      "For  Self-emp-not-inc reject h_0: p-value of 2.7356412447344843e-07\n",
      "For  Private reject h_0: p-value of 1.8833387709766745e-42\n",
      "For  Federal-gov reject h_0: p-value of 2.6120103864663305e-20\n",
      "For  Local-gov reject h_0: p-value of 2.1143088938036653e-08\n",
      "For  ? reject h_0: p-value of 1.8387352664003686e-76\n",
      "For  Self-emp-inc reject h_0: p-value of 1.8721969637147123e-88\n",
      "For  Without-pay reject h_0: p-value of 0.0\n",
      "For  Never-worked reject h_0: p-value of 0.0\n"
     ]
    }
   ],
   "source": [
    "cat_tt(df_train_data, 'workclass', 'wage_1')"
   ]
  },
  {
   "cell_type": "code",
   "execution_count": 110,
   "metadata": {},
   "outputs": [
    {
     "name": "stdout",
     "output_type": "stream",
     "text": [
      "Mean wage_1 given workclass ==  State-gov: 0.272\n",
      "Median wage_1 given workclass ==  State-gov: 0.0\n",
      "\n",
      "Mean wage_1 given workclass ==  Self-emp-not-inc: 0.285\n",
      "Median wage_1 given workclass ==  Self-emp-not-inc: 0.0\n",
      "\n",
      "Mean wage_1 given workclass ==  Private: 0.219\n",
      "Median wage_1 given workclass ==  Private: 0.0\n",
      "\n",
      "Mean wage_1 given workclass ==  Federal-gov: 0.386\n",
      "Median wage_1 given workclass ==  Federal-gov: 0.0\n",
      "\n",
      "Mean wage_1 given workclass ==  Local-gov: 0.295\n",
      "Median wage_1 given workclass ==  Local-gov: 0.0\n",
      "\n",
      "Mean wage_1 given workclass ==  ?: 0.104\n",
      "Median wage_1 given workclass ==  ?: 0.0\n",
      "\n",
      "Mean wage_1 given workclass ==  Self-emp-inc: 0.557\n",
      "Median wage_1 given workclass ==  Self-emp-inc: 1.0\n",
      "\n",
      "Mean wage_1 given workclass ==  Without-pay: 0.0\n",
      "Median wage_1 given workclass ==  Without-pay: 0.0\n",
      "\n",
      "Mean wage_1 given workclass ==  Never-worked: 0.0\n",
      "Median wage_1 given workclass ==  Never-worked: 0.0\n",
      "\n"
     ]
    }
   ],
   "source": [
    "cat_mean_median(df_train_data, 'workclass', 'wage_1')"
   ]
  },
  {
   "cell_type": "code",
   "execution_count": 111,
   "metadata": {},
   "outputs": [],
   "source": [
    "df_train_data['workclass_com'] = df_train_data['workclass']\n",
    "df_train_data['workclass_com'] = df_train_data['workclass_com'].map(lambda x: 'Private' if x == ' Private' else x)\n",
    "df_train_data['workclass_com'] = df_train_data['workclass_com'].map(lambda x: 'Other' if x.strip() in ['?', 'Never-worked', 'Without-pay'] else x)\n",
    "df_train_data['workclass_com'] = df_train_data['workclass_com'].map(lambda x: 'Government' if x.strip() in ['Federal-gov', 'State-gov', 'Local-gov'] else x)\n",
    "df_train_data['workclass_com'] = df_train_data['workclass_com'].map(lambda x: 'Self-employed' if x.strip() in ['Self-emp-not-inc', 'Self-emp-inc'] else x)\n"
   ]
  },
  {
   "cell_type": "code",
   "execution_count": 112,
   "metadata": {},
   "outputs": [
    {
     "data": {
      "text/plain": [
       "Private          22696\n",
       "Government        4351\n",
       "Self-employed     3657\n",
       "Other             1857\n",
       "Name: workclass_com, dtype: int64"
      ]
     },
     "execution_count": 112,
     "metadata": {},
     "output_type": "execute_result"
    }
   ],
   "source": [
    "df_train_data['workclass_com'].value_counts()"
   ]
  },
  {
   "cell_type": "code",
   "execution_count": 113,
   "metadata": {},
   "outputs": [
    {
     "name": "stdout",
     "output_type": "stream",
     "text": [
      "h_0: mean wage_1 given workclass_com = x == mean wage_1 given workclass_com != x. \n",
      "\n",
      "h_a: mean wage_1 given workclass_com = x != mean wage_1 given workclass_com != x. \n",
      "\n",
      "Significance level of 0.05\n",
      "\n",
      "\n",
      "For Government reject h_0: p-value of 2.2575586937256567e-25\n",
      "For Self-employed reject h_0: p-value of 4.745537823000359e-64\n",
      "For Private reject h_0: p-value of 1.8833387709766745e-42\n",
      "For Other reject h_0: p-value of 3.409194414087696e-79\n"
     ]
    }
   ],
   "source": [
    "cat_tt(df_train_data, 'workclass_com', 'wage_1')"
   ]
  },
  {
   "cell_type": "code",
   "execution_count": 114,
   "metadata": {},
   "outputs": [
    {
     "name": "stdout",
     "output_type": "stream",
     "text": [
      "Mean wage_1 given workclass_com == Government: 0.308\n",
      "Median wage_1 given workclass_com == Government: 0.0\n",
      "\n",
      "Mean wage_1 given workclass_com == Self-employed: 0.368\n",
      "Median wage_1 given workclass_com == Self-employed: 0.0\n",
      "\n",
      "Mean wage_1 given workclass_com == Private: 0.219\n",
      "Median wage_1 given workclass_com == Private: 0.0\n",
      "\n",
      "Mean wage_1 given workclass_com == Other: 0.103\n",
      "Median wage_1 given workclass_com == Other: 0.0\n",
      "\n"
     ]
    }
   ],
   "source": [
    "cat_mean_median(df_train_data, 'workclass_com', 'wage_1')"
   ]
  },
  {
   "cell_type": "markdown",
   "metadata": {},
   "source": [
    "### fnlwgt\n",
    "\n",
    "https://rpubs.com/H_Zhu/235617\n",
    "\n",
    "From this site the continuous variable 'fnlwgt' represents final weight, which is the number of units in the target population that the responding unit represents.\n",
    "\n",
    "We can remove this column"
   ]
  },
  {
   "cell_type": "code",
   "execution_count": 115,
   "metadata": {
    "scrolled": true
   },
   "outputs": [
    {
     "data": {
      "text/plain": [
       "164190    13\n",
       "203488    13\n",
       "123011    13\n",
       "113364    12\n",
       "121124    12\n",
       "          ..\n",
       "284211     1\n",
       "312881     1\n",
       "177711     1\n",
       "179758     1\n",
       "229376     1\n",
       "Name: fnlwgt, Length: 21648, dtype: int64"
      ]
     },
     "execution_count": 115,
     "metadata": {},
     "output_type": "execute_result"
    }
   ],
   "source": [
    "df_train_data['fnlwgt'].value_counts()"
   ]
  },
  {
   "cell_type": "code",
   "execution_count": 116,
   "metadata": {
    "scrolled": true
   },
   "outputs": [
    {
     "data": {
      "image/png": "[encoded data removed]",
      "text/plain": [
       "<Figure size 432x288 with 1 Axes>"
      ]
     },
     "metadata": {
      "needs_background": "light"
     },
     "output_type": "display_data"
    }
   ],
   "source": [
    "plt.hist(df_train_data['fnlwgt']);"
   ]
  },
  {
   "cell_type": "markdown",
   "metadata": {},
   "source": [
    "### Education\n",
    "\n",
    "We will remove this column since we have a column, 'Education-num' that is set up as ordinal numbers that correpond to the level of education. "
   ]
  },
  {
   "cell_type": "code",
   "execution_count": 117,
   "metadata": {},
   "outputs": [
    {
     "data": {
      "text/plain": [
       " HS-grad         10501\n",
       " Some-college     7291\n",
       " Bachelors        5355\n",
       " Masters          1723\n",
       " Assoc-voc        1382\n",
       " 11th             1175\n",
       " Assoc-acdm       1067\n",
       " 10th              933\n",
       " 7th-8th           646\n",
       " Prof-school       576\n",
       " 9th               514\n",
       " 12th              433\n",
       " Doctorate         413\n",
       " 5th-6th           333\n",
       " 1st-4th           168\n",
       " Preschool          51\n",
       "Name: education, dtype: int64"
      ]
     },
     "execution_count": 117,
     "metadata": {},
     "output_type": "execute_result"
    }
   ],
   "source": [
    "df_train_data['education'].value_counts()"
   ]
  },
  {
   "cell_type": "code",
   "execution_count": 118,
   "metadata": {
    "scrolled": true
   },
   "outputs": [
    {
     "data": {
      "text/html": [
       "<div>\n",
       "<style scoped>\n",
       "    .dataframe tbody tr th:only-of-type {\n",
       "        vertical-align: middle;\n",
       "    }\n",
       "\n",
       "    .dataframe tbody tr th {\n",
       "        vertical-align: top;\n",
       "    }\n",
       "\n",
       "    .dataframe thead th {\n",
       "        text-align: right;\n",
       "    }\n",
       "</style>\n",
       "<table border=\"1\" class=\"dataframe\">\n",
       "  <thead>\n",
       "    <tr style=\"text-align: right;\">\n",
       "      <th></th>\n",
       "      <th>age</th>\n",
       "      <th>workclass</th>\n",
       "      <th>fnlwgt</th>\n",
       "      <th>education</th>\n",
       "      <th>education-num</th>\n",
       "      <th>marital-status</th>\n",
       "      <th>occupation</th>\n",
       "      <th>relationship</th>\n",
       "      <th>sex</th>\n",
       "      <th>capital-gain</th>\n",
       "      <th>capital-loss</th>\n",
       "      <th>hours-per-week</th>\n",
       "      <th>native-country</th>\n",
       "      <th>wage</th>\n",
       "      <th>wage_1</th>\n",
       "      <th>workclass_com</th>\n",
       "    </tr>\n",
       "  </thead>\n",
       "  <tbody>\n",
       "    <tr>\n",
       "      <th>14</th>\n",
       "      <td>40</td>\n",
       "      <td>Private</td>\n",
       "      <td>121772</td>\n",
       "      <td>Assoc-voc</td>\n",
       "      <td>11</td>\n",
       "      <td>Married-civ-spouse</td>\n",
       "      <td>Craft-repair</td>\n",
       "      <td>Husband</td>\n",
       "      <td>Male</td>\n",
       "      <td>0</td>\n",
       "      <td>0</td>\n",
       "      <td>40</td>\n",
       "      <td>?</td>\n",
       "      <td>&gt;50K</td>\n",
       "      <td>1</td>\n",
       "      <td>Private</td>\n",
       "    </tr>\n",
       "    <tr>\n",
       "      <th>48</th>\n",
       "      <td>41</td>\n",
       "      <td>State-gov</td>\n",
       "      <td>101603</td>\n",
       "      <td>Assoc-voc</td>\n",
       "      <td>11</td>\n",
       "      <td>Married-civ-spouse</td>\n",
       "      <td>Craft-repair</td>\n",
       "      <td>Husband</td>\n",
       "      <td>Male</td>\n",
       "      <td>0</td>\n",
       "      <td>0</td>\n",
       "      <td>40</td>\n",
       "      <td>United-States</td>\n",
       "      <td>&lt;=50K</td>\n",
       "      <td>0</td>\n",
       "      <td>Government</td>\n",
       "    </tr>\n",
       "    <tr>\n",
       "      <th>49</th>\n",
       "      <td>29</td>\n",
       "      <td>Private</td>\n",
       "      <td>271466</td>\n",
       "      <td>Assoc-voc</td>\n",
       "      <td>11</td>\n",
       "      <td>Never-married</td>\n",
       "      <td>Prof-specialty</td>\n",
       "      <td>Not-in-family</td>\n",
       "      <td>Male</td>\n",
       "      <td>0</td>\n",
       "      <td>0</td>\n",
       "      <td>43</td>\n",
       "      <td>United-States</td>\n",
       "      <td>&lt;=50K</td>\n",
       "      <td>0</td>\n",
       "      <td>Private</td>\n",
       "    </tr>\n",
       "    <tr>\n",
       "      <th>57</th>\n",
       "      <td>35</td>\n",
       "      <td>Private</td>\n",
       "      <td>56352</td>\n",
       "      <td>Assoc-voc</td>\n",
       "      <td>11</td>\n",
       "      <td>Married-civ-spouse</td>\n",
       "      <td>Other-service</td>\n",
       "      <td>Husband</td>\n",
       "      <td>Male</td>\n",
       "      <td>0</td>\n",
       "      <td>0</td>\n",
       "      <td>40</td>\n",
       "      <td>Puerto-Rico</td>\n",
       "      <td>&lt;=50K</td>\n",
       "      <td>0</td>\n",
       "      <td>Private</td>\n",
       "    </tr>\n",
       "    <tr>\n",
       "      <th>90</th>\n",
       "      <td>57</td>\n",
       "      <td>Private</td>\n",
       "      <td>249977</td>\n",
       "      <td>Assoc-voc</td>\n",
       "      <td>11</td>\n",
       "      <td>Married-civ-spouse</td>\n",
       "      <td>Prof-specialty</td>\n",
       "      <td>Husband</td>\n",
       "      <td>Male</td>\n",
       "      <td>0</td>\n",
       "      <td>0</td>\n",
       "      <td>40</td>\n",
       "      <td>United-States</td>\n",
       "      <td>&lt;=50K</td>\n",
       "      <td>0</td>\n",
       "      <td>Private</td>\n",
       "    </tr>\n",
       "  </tbody>\n",
       "</table>\n",
       "</div>"
      ],
      "text/plain": [
       "    age   workclass  fnlwgt   education  education-num       marital-status  \\\n",
       "14   40     Private  121772   Assoc-voc             11   Married-civ-spouse   \n",
       "48   41   State-gov  101603   Assoc-voc             11   Married-civ-spouse   \n",
       "49   29     Private  271466   Assoc-voc             11        Never-married   \n",
       "57   35     Private   56352   Assoc-voc             11   Married-civ-spouse   \n",
       "90   57     Private  249977   Assoc-voc             11   Married-civ-spouse   \n",
       "\n",
       "         occupation    relationship    sex  capital-gain  capital-loss  \\\n",
       "14     Craft-repair         Husband   Male             0             0   \n",
       "48     Craft-repair         Husband   Male             0             0   \n",
       "49   Prof-specialty   Not-in-family   Male             0             0   \n",
       "57    Other-service         Husband   Male             0             0   \n",
       "90   Prof-specialty         Husband   Male             0             0   \n",
       "\n",
       "    hours-per-week  native-country    wage  wage_1 workclass_com  \n",
       "14              40               ?    >50K       1       Private  \n",
       "48              40   United-States   <=50K       0    Government  \n",
       "49              43   United-States   <=50K       0       Private  \n",
       "57              40     Puerto-Rico   <=50K       0       Private  \n",
       "90              40   United-States   <=50K       0       Private  "
      ]
     },
     "execution_count": 118,
     "metadata": {},
     "output_type": "execute_result"
    }
   ],
   "source": [
    "df_train_data[df_train_data['education'] == ' Assoc-voc'].head()"
   ]
  },
  {
   "cell_type": "code",
   "execution_count": 119,
   "metadata": {},
   "outputs": [
    {
     "name": "stdout",
     "output_type": "stream",
     "text": [
      "h_0: mean wage_1 given education = x == mean wage_1 given education != x. \n",
      "\n",
      "h_a: mean wage_1 given education = x != mean wage_1 given education != x. \n",
      "\n",
      "Significance level of 0.05\n",
      "\n",
      "\n",
      "For  Bachelors reject h_0: p-value of 4.7090513309864227e-175\n",
      "For  HS-grad reject h_0: p-value of 3.5754954212137295e-143\n",
      "For  11th reject h_0: p-value of 5.9133482837479606e-145\n",
      "For  Masters reject h_0: p-value of 1.87301949779324e-138\n",
      "For  9th reject h_0: p-value of 3.4296638181896324e-62\n",
      "For  Some-college reject h_0: p-value of 6.597612768659086e-34\n",
      "For  Assoc-acdm Fail to reject h_0: p-value of 0.5617915124414661\n",
      "For  Assoc-voc Fail to reject h_0: p-value of 0.07757258779586264\n",
      "For  7th-8th reject h_0: p-value of 9.547525306192061e-64\n",
      "For  Doctorate reject h_0: p-value of 6.470988804511595e-78\n",
      "For  Prof-school reject h_0: p-value of 1.1114445309706125e-105\n",
      "For  5th-6th reject h_0: p-value of 5.794488246623711e-45\n",
      "For  10th reject h_0: p-value of 3.089495121106959e-83\n",
      "For  1st-4th reject h_0: p-value of 6.714873215452568e-31\n",
      "For  Preschool reject h_0: p-value of 0.0\n",
      "For  12th reject h_0: p-value of 1.6578336568386355e-32\n"
     ]
    }
   ],
   "source": [
    "cat_tt(df_train_data, 'education', 'wage_1')"
   ]
  },
  {
   "cell_type": "code",
   "execution_count": 120,
   "metadata": {},
   "outputs": [
    {
     "name": "stdout",
     "output_type": "stream",
     "text": [
      "h_0: mean wage_1 given education = x == mean wage_1 given education != x. \n",
      "\n",
      "h_a: mean wage_1 given education = x != mean wage_1 given education != x. \n",
      "\n",
      "Significance level of 0.05\n",
      "\n",
      "\n",
      "For  Bachelors reject h_0: p-value of 4.7090513309864227e-175\n",
      "For  HS-grad reject h_0: p-value of 3.5754954212137295e-143\n",
      "For  11th reject h_0: p-value of 5.9133482837479606e-145\n",
      "For  Masters reject h_0: p-value of 1.87301949779324e-138\n",
      "For  9th reject h_0: p-value of 3.4296638181896324e-62\n",
      "For  Some-college reject h_0: p-value of 6.597612768659086e-34\n",
      "For  Assoc-acdm Fail to reject h_0: p-value of 0.5617915124414661\n",
      "For  Assoc-voc Fail to reject h_0: p-value of 0.07757258779586264\n",
      "For  7th-8th reject h_0: p-value of 9.547525306192061e-64\n",
      "For  Doctorate reject h_0: p-value of 6.470988804511595e-78\n",
      "For  Prof-school reject h_0: p-value of 1.1114445309706125e-105\n",
      "For  5th-6th reject h_0: p-value of 5.794488246623711e-45\n",
      "For  10th reject h_0: p-value of 3.089495121106959e-83\n",
      "For  1st-4th reject h_0: p-value of 6.714873215452568e-31\n",
      "For  Preschool reject h_0: p-value of 0.0\n",
      "For  12th reject h_0: p-value of 1.6578336568386355e-32\n"
     ]
    }
   ],
   "source": [
    "cat_tt(df_train_data, 'education', 'wage_1')"
   ]
  },
  {
   "cell_type": "markdown",
   "metadata": {},
   "source": [
    "### Education-num\n",
    "\n",
    "We will leave this alone.\n"
   ]
  },
  {
   "cell_type": "code",
   "execution_count": 121,
   "metadata": {},
   "outputs": [
    {
     "data": {
      "text/plain": [
       "9     10501\n",
       "10     7291\n",
       "13     5355\n",
       "14     1723\n",
       "11     1382\n",
       "7      1175\n",
       "12     1067\n",
       "6       933\n",
       "4       646\n",
       "15      576\n",
       "5       514\n",
       "8       433\n",
       "16      413\n",
       "3       333\n",
       "2       168\n",
       "1        51\n",
       "Name: education-num, dtype: int64"
      ]
     },
     "execution_count": 121,
     "metadata": {},
     "output_type": "execute_result"
    }
   ],
   "source": [
    "df_train_data['education-num'].value_counts()"
   ]
  },
  {
   "cell_type": "code",
   "execution_count": 122,
   "metadata": {},
   "outputs": [
    {
     "data": {
      "text/html": [
       "<div>\n",
       "<style scoped>\n",
       "    .dataframe tbody tr th:only-of-type {\n",
       "        vertical-align: middle;\n",
       "    }\n",
       "\n",
       "    .dataframe tbody tr th {\n",
       "        vertical-align: top;\n",
       "    }\n",
       "\n",
       "    .dataframe thead th {\n",
       "        text-align: right;\n",
       "    }\n",
       "</style>\n",
       "<table border=\"1\" class=\"dataframe\">\n",
       "  <thead>\n",
       "    <tr style=\"text-align: right;\">\n",
       "      <th></th>\n",
       "      <th>age</th>\n",
       "      <th>workclass</th>\n",
       "      <th>fnlwgt</th>\n",
       "      <th>education</th>\n",
       "      <th>education-num</th>\n",
       "      <th>marital-status</th>\n",
       "      <th>occupation</th>\n",
       "      <th>relationship</th>\n",
       "      <th>sex</th>\n",
       "      <th>capital-gain</th>\n",
       "      <th>capital-loss</th>\n",
       "      <th>hours-per-week</th>\n",
       "      <th>native-country</th>\n",
       "      <th>wage</th>\n",
       "      <th>wage_1</th>\n",
       "      <th>workclass_com</th>\n",
       "    </tr>\n",
       "  </thead>\n",
       "  <tbody>\n",
       "    <tr>\n",
       "      <th>11210</th>\n",
       "      <td>36</td>\n",
       "      <td>Self-emp-not-inc</td>\n",
       "      <td>188972</td>\n",
       "      <td>Doctorate</td>\n",
       "      <td>16</td>\n",
       "      <td>Separated</td>\n",
       "      <td>Prof-specialty</td>\n",
       "      <td>Unmarried</td>\n",
       "      <td>Female</td>\n",
       "      <td>0</td>\n",
       "      <td>0</td>\n",
       "      <td>10</td>\n",
       "      <td>Canada</td>\n",
       "      <td>&lt;=50K</td>\n",
       "      <td>0</td>\n",
       "      <td>Self-employed</td>\n",
       "    </tr>\n",
       "    <tr>\n",
       "      <th>4597</th>\n",
       "      <td>55</td>\n",
       "      <td>Private</td>\n",
       "      <td>50164</td>\n",
       "      <td>Doctorate</td>\n",
       "      <td>16</td>\n",
       "      <td>Married-civ-spouse</td>\n",
       "      <td>Exec-managerial</td>\n",
       "      <td>Husband</td>\n",
       "      <td>Male</td>\n",
       "      <td>0</td>\n",
       "      <td>0</td>\n",
       "      <td>60</td>\n",
       "      <td>United-States</td>\n",
       "      <td>&gt;50K</td>\n",
       "      <td>1</td>\n",
       "      <td>Private</td>\n",
       "    </tr>\n",
       "    <tr>\n",
       "      <th>7320</th>\n",
       "      <td>38</td>\n",
       "      <td>State-gov</td>\n",
       "      <td>200289</td>\n",
       "      <td>Doctorate</td>\n",
       "      <td>16</td>\n",
       "      <td>Married-civ-spouse</td>\n",
       "      <td>Prof-specialty</td>\n",
       "      <td>Husband</td>\n",
       "      <td>Male</td>\n",
       "      <td>0</td>\n",
       "      <td>0</td>\n",
       "      <td>40</td>\n",
       "      <td>Taiwan</td>\n",
       "      <td>&lt;=50K</td>\n",
       "      <td>0</td>\n",
       "      <td>Government</td>\n",
       "    </tr>\n",
       "    <tr>\n",
       "      <th>13466</th>\n",
       "      <td>42</td>\n",
       "      <td>Self-emp-not-inc</td>\n",
       "      <td>24763</td>\n",
       "      <td>Doctorate</td>\n",
       "      <td>16</td>\n",
       "      <td>Married-civ-spouse</td>\n",
       "      <td>Prof-specialty</td>\n",
       "      <td>Husband</td>\n",
       "      <td>Male</td>\n",
       "      <td>15024</td>\n",
       "      <td>0</td>\n",
       "      <td>40</td>\n",
       "      <td>United-States</td>\n",
       "      <td>&gt;50K</td>\n",
       "      <td>1</td>\n",
       "      <td>Self-employed</td>\n",
       "    </tr>\n",
       "    <tr>\n",
       "      <th>19901</th>\n",
       "      <td>40</td>\n",
       "      <td>State-gov</td>\n",
       "      <td>174283</td>\n",
       "      <td>Doctorate</td>\n",
       "      <td>16</td>\n",
       "      <td>Married-civ-spouse</td>\n",
       "      <td>Prof-specialty</td>\n",
       "      <td>Husband</td>\n",
       "      <td>Male</td>\n",
       "      <td>0</td>\n",
       "      <td>1887</td>\n",
       "      <td>50</td>\n",
       "      <td>United-States</td>\n",
       "      <td>&gt;50K</td>\n",
       "      <td>1</td>\n",
       "      <td>Government</td>\n",
       "    </tr>\n",
       "    <tr>\n",
       "      <th>...</th>\n",
       "      <td>...</td>\n",
       "      <td>...</td>\n",
       "      <td>...</td>\n",
       "      <td>...</td>\n",
       "      <td>...</td>\n",
       "      <td>...</td>\n",
       "      <td>...</td>\n",
       "      <td>...</td>\n",
       "      <td>...</td>\n",
       "      <td>...</td>\n",
       "      <td>...</td>\n",
       "      <td>...</td>\n",
       "      <td>...</td>\n",
       "      <td>...</td>\n",
       "      <td>...</td>\n",
       "      <td>...</td>\n",
       "    </tr>\n",
       "    <tr>\n",
       "      <th>25227</th>\n",
       "      <td>23</td>\n",
       "      <td>Private</td>\n",
       "      <td>240049</td>\n",
       "      <td>Preschool</td>\n",
       "      <td>1</td>\n",
       "      <td>Never-married</td>\n",
       "      <td>Other-service</td>\n",
       "      <td>Not-in-family</td>\n",
       "      <td>Female</td>\n",
       "      <td>0</td>\n",
       "      <td>0</td>\n",
       "      <td>40</td>\n",
       "      <td>Laos</td>\n",
       "      <td>&lt;=50K</td>\n",
       "      <td>0</td>\n",
       "      <td>Private</td>\n",
       "    </tr>\n",
       "    <tr>\n",
       "      <th>28395</th>\n",
       "      <td>36</td>\n",
       "      <td>Private</td>\n",
       "      <td>252231</td>\n",
       "      <td>Preschool</td>\n",
       "      <td>1</td>\n",
       "      <td>Never-married</td>\n",
       "      <td>Machine-op-inspct</td>\n",
       "      <td>Not-in-family</td>\n",
       "      <td>Male</td>\n",
       "      <td>0</td>\n",
       "      <td>0</td>\n",
       "      <td>40</td>\n",
       "      <td>Puerto-Rico</td>\n",
       "      <td>&lt;=50K</td>\n",
       "      <td>0</td>\n",
       "      <td>Private</td>\n",
       "    </tr>\n",
       "    <tr>\n",
       "      <th>32432</th>\n",
       "      <td>36</td>\n",
       "      <td>Private</td>\n",
       "      <td>208068</td>\n",
       "      <td>Preschool</td>\n",
       "      <td>1</td>\n",
       "      <td>Divorced</td>\n",
       "      <td>Other-service</td>\n",
       "      <td>Not-in-family</td>\n",
       "      <td>Male</td>\n",
       "      <td>0</td>\n",
       "      <td>0</td>\n",
       "      <td>72</td>\n",
       "      <td>Mexico</td>\n",
       "      <td>&lt;=50K</td>\n",
       "      <td>0</td>\n",
       "      <td>Private</td>\n",
       "    </tr>\n",
       "    <tr>\n",
       "      <th>8080</th>\n",
       "      <td>21</td>\n",
       "      <td>Private</td>\n",
       "      <td>243368</td>\n",
       "      <td>Preschool</td>\n",
       "      <td>1</td>\n",
       "      <td>Never-married</td>\n",
       "      <td>Farming-fishing</td>\n",
       "      <td>Not-in-family</td>\n",
       "      <td>Male</td>\n",
       "      <td>0</td>\n",
       "      <td>0</td>\n",
       "      <td>50</td>\n",
       "      <td>Mexico</td>\n",
       "      <td>&lt;=50K</td>\n",
       "      <td>0</td>\n",
       "      <td>Private</td>\n",
       "    </tr>\n",
       "    <tr>\n",
       "      <th>7070</th>\n",
       "      <td>30</td>\n",
       "      <td>Private</td>\n",
       "      <td>193598</td>\n",
       "      <td>Preschool</td>\n",
       "      <td>1</td>\n",
       "      <td>Never-married</td>\n",
       "      <td>Farming-fishing</td>\n",
       "      <td>Not-in-family</td>\n",
       "      <td>Male</td>\n",
       "      <td>0</td>\n",
       "      <td>0</td>\n",
       "      <td>40</td>\n",
       "      <td>Mexico</td>\n",
       "      <td>&lt;=50K</td>\n",
       "      <td>0</td>\n",
       "      <td>Private</td>\n",
       "    </tr>\n",
       "  </tbody>\n",
       "</table>\n",
       "<p>32561 rows × 16 columns</p>\n",
       "</div>"
      ],
      "text/plain": [
       "       age          workclass  fnlwgt   education  education-num  \\\n",
       "11210   36   Self-emp-not-inc  188972   Doctorate             16   \n",
       "4597    55            Private   50164   Doctorate             16   \n",
       "7320    38          State-gov  200289   Doctorate             16   \n",
       "13466   42   Self-emp-not-inc   24763   Doctorate             16   \n",
       "19901   40          State-gov  174283   Doctorate             16   \n",
       "...    ...                ...     ...         ...            ...   \n",
       "25227   23            Private  240049   Preschool              1   \n",
       "28395   36            Private  252231   Preschool              1   \n",
       "32432   36            Private  208068   Preschool              1   \n",
       "8080    21            Private  243368   Preschool              1   \n",
       "7070    30            Private  193598   Preschool              1   \n",
       "\n",
       "            marital-status          occupation    relationship      sex  \\\n",
       "11210            Separated      Prof-specialty       Unmarried   Female   \n",
       "4597    Married-civ-spouse     Exec-managerial         Husband     Male   \n",
       "7320    Married-civ-spouse      Prof-specialty         Husband     Male   \n",
       "13466   Married-civ-spouse      Prof-specialty         Husband     Male   \n",
       "19901   Married-civ-spouse      Prof-specialty         Husband     Male   \n",
       "...                    ...                 ...             ...      ...   \n",
       "25227        Never-married       Other-service   Not-in-family   Female   \n",
       "28395        Never-married   Machine-op-inspct   Not-in-family     Male   \n",
       "32432             Divorced       Other-service   Not-in-family     Male   \n",
       "8080         Never-married     Farming-fishing   Not-in-family     Male   \n",
       "7070         Never-married     Farming-fishing   Not-in-family     Male   \n",
       "\n",
       "       capital-gain  capital-loss  hours-per-week  native-country    wage  \\\n",
       "11210             0             0              10          Canada   <=50K   \n",
       "4597              0             0              60   United-States    >50K   \n",
       "7320              0             0              40          Taiwan   <=50K   \n",
       "13466         15024             0              40   United-States    >50K   \n",
       "19901             0          1887              50   United-States    >50K   \n",
       "...             ...           ...             ...             ...     ...   \n",
       "25227             0             0              40            Laos   <=50K   \n",
       "28395             0             0              40     Puerto-Rico   <=50K   \n",
       "32432             0             0              72          Mexico   <=50K   \n",
       "8080              0             0              50          Mexico   <=50K   \n",
       "7070              0             0              40          Mexico   <=50K   \n",
       "\n",
       "       wage_1  workclass_com  \n",
       "11210       0  Self-employed  \n",
       "4597        1        Private  \n",
       "7320        0     Government  \n",
       "13466       1  Self-employed  \n",
       "19901       1     Government  \n",
       "...       ...            ...  \n",
       "25227       0        Private  \n",
       "28395       0        Private  \n",
       "32432       0        Private  \n",
       "8080        0        Private  \n",
       "7070        0        Private  \n",
       "\n",
       "[32561 rows x 16 columns]"
      ]
     },
     "execution_count": 122,
     "metadata": {},
     "output_type": "execute_result"
    }
   ],
   "source": [
    "df_train_data.sort_values(by='education-num', ascending=False)"
   ]
  },
  {
   "cell_type": "markdown",
   "metadata": {},
   "source": [
    "### Marital-status\n",
    "\n",
    "After evaluating the marital-statu data in relation to the wage data, The sub-catagories will be combined into 2 dummy groups. \n",
    "\n",
    "* Married ===> '0'\n",
    "* Single ===> '1'\n",
    "\n",
    "The following catagories will be combined:\n",
    "* Married-civ-spouse, Married-AF-spouse ==> '0'\n",
    "* Never-married, Divorced, Separated, Widowed, Married-spouse-absent  ==> '1'\n"
   ]
  },
  {
   "cell_type": "code",
   "execution_count": 123,
   "metadata": {},
   "outputs": [
    {
     "name": "stdout",
     "output_type": "stream",
     "text": [
      "h_0: mean wage_1 given marital-status = x == mean wage_1 given marital-status != x. \n",
      "\n",
      "h_a: mean wage_1 given marital-status = x != mean wage_1 given marital-status != x. \n",
      "\n",
      "Significance level of 0.05\n",
      "\n",
      "\n",
      "For  Never-married reject h_0: p-value of 0.0\n",
      "For  Married-civ-spouse reject h_0: p-value of 0.0\n",
      "For  Divorced reject h_0: p-value of 1.6696270889211297e-186\n",
      "For  Married-spouse-absent reject h_0: p-value of 1.8749903293540503e-28\n",
      "For  Separated reject h_0: p-value of 2.916880964339019e-95\n",
      "For  Married-AF-spouse Fail to reject h_0: p-value of 0.07987499836452418\n",
      "For  Widowed reject h_0: p-value of 2.837625374220586e-60\n"
     ]
    }
   ],
   "source": [
    "cat_tt(df_train_data, 'marital-status', 'wage_1')"
   ]
  },
  {
   "cell_type": "code",
   "execution_count": 124,
   "metadata": {},
   "outputs": [
    {
     "name": "stdout",
     "output_type": "stream",
     "text": [
      "Mean wage_1 given marital-status ==  Never-married: 0.046\n",
      "Median wage_1 given marital-status ==  Never-married: 0.0\n",
      "\n",
      "Mean wage_1 given marital-status ==  Married-civ-spouse: 0.447\n",
      "Median wage_1 given marital-status ==  Married-civ-spouse: 0.0\n",
      "\n",
      "Mean wage_1 given marital-status ==  Divorced: 0.104\n",
      "Median wage_1 given marital-status ==  Divorced: 0.0\n",
      "\n",
      "Mean wage_1 given marital-status ==  Married-spouse-absent: 0.081\n",
      "Median wage_1 given marital-status ==  Married-spouse-absent: 0.0\n",
      "\n",
      "Mean wage_1 given marital-status ==  Separated: 0.064\n",
      "Median wage_1 given marital-status ==  Separated: 0.0\n",
      "\n",
      "Mean wage_1 given marital-status ==  Married-AF-spouse: 0.435\n",
      "Median wage_1 given marital-status ==  Married-AF-spouse: 0.0\n",
      "\n",
      "Mean wage_1 given marital-status ==  Widowed: 0.086\n",
      "Median wage_1 given marital-status ==  Widowed: 0.0\n",
      "\n"
     ]
    }
   ],
   "source": [
    "cat_mean_median(df_train_data, 'marital-status', 'wage_1')"
   ]
  },
  {
   "cell_type": "code",
   "execution_count": 125,
   "metadata": {},
   "outputs": [],
   "source": [
    "df_train_data['marital_status_num'] = df_train_data['marital-status'].map(lambda x: 1 if x.strip() in ['Married-civ-spouse', 'Married-AF-spouse'] else 0)"
   ]
  },
  {
   "cell_type": "code",
   "execution_count": 126,
   "metadata": {},
   "outputs": [
    {
     "data": {
      "text/plain": [
       "0    17562\n",
       "1    14999\n",
       "Name: marital_status_num, dtype: int64"
      ]
     },
     "execution_count": 126,
     "metadata": {},
     "output_type": "execute_result"
    }
   ],
   "source": [
    "df_train_data['marital_status_num'].value_counts()"
   ]
  },
  {
   "cell_type": "code",
   "execution_count": 127,
   "metadata": {},
   "outputs": [
    {
     "name": "stdout",
     "output_type": "stream",
     "text": [
      "Mean wage_1 given marital_status_num == 0: 0.065\n",
      "Median wage_1 given marital_status_num == 0: 0.0\n",
      "\n",
      "Mean wage_1 given marital_status_num == 1: 0.447\n",
      "Median wage_1 given marital_status_num == 1: 0.0\n",
      "\n"
     ]
    }
   ],
   "source": [
    "cat_mean_median(df_train_data, 'marital_status_num', 'wage_1')"
   ]
  },
  {
   "cell_type": "code",
   "execution_count": 128,
   "metadata": {},
   "outputs": [
    {
     "name": "stdout",
     "output_type": "stream",
     "text": [
      "h_0: mean wage_1 given marital_status_num = x == mean wage_1 given marital_status_num != x. \n",
      "\n",
      "h_a: mean wage_1 given marital_status_num = x != mean wage_1 given marital_status_num != x. \n",
      "\n",
      "Significance level of 0.05\n",
      "\n",
      "\n",
      "For 0 reject h_0: p-value of 0.0\n",
      "For 1 reject h_0: p-value of 0.0\n"
     ]
    }
   ],
   "source": [
    "cat_tt(df_train_data, 'marital_status_num', 'wage_1')"
   ]
  },
  {
   "cell_type": "markdown",
   "metadata": {},
   "source": [
    "### Occupation\n",
    "\n",
    "After evaluating the occupation data in relation to the wage data, The sub-catagories will be combined into 5 groups.\n",
    "\n",
    "* Prof-specialty, Exec-managerial ==> professional\n",
    "* Priv-house-serv, Handlers-cleaners  ==> house_services\n",
    "* Machine-op-inspct, Transport-moving, Craft-repair, Farming-fishing  ==> specialty\n",
    "* Tech-support, Protective-serv, Sales ==> tech/sales\n",
    "* '?', 'Other-service', 'Adm-clerical', 'Armed-Forces'  ==> other\n"
   ]
  },
  {
   "cell_type": "code",
   "execution_count": 129,
   "metadata": {
    "scrolled": false
   },
   "outputs": [
    {
     "data": {
      "text/plain": [
       " Prof-specialty       4140\n",
       " Craft-repair         4099\n",
       " Exec-managerial      4066\n",
       " Adm-clerical         3770\n",
       " Sales                3650\n",
       " Other-service        3295\n",
       " Machine-op-inspct    2002\n",
       " ?                    1843\n",
       " Transport-moving     1597\n",
       " Handlers-cleaners    1370\n",
       " Farming-fishing       994\n",
       " Tech-support          928\n",
       " Protective-serv       649\n",
       " Priv-house-serv       149\n",
       " Armed-Forces            9\n",
       "Name: occupation, dtype: int64"
      ]
     },
     "execution_count": 129,
     "metadata": {},
     "output_type": "execute_result"
    }
   ],
   "source": [
    "df_train_data['occupation'].value_counts()"
   ]
  },
  {
   "cell_type": "code",
   "execution_count": 130,
   "metadata": {},
   "outputs": [
    {
     "name": "stdout",
     "output_type": "stream",
     "text": [
      "Mean wage_1 given occupation ==  Adm-clerical: 0.134\n",
      "Median wage_1 given occupation ==  Adm-clerical: 0.0\n",
      "\n",
      "Mean wage_1 given occupation ==  Exec-managerial: 0.484\n",
      "Median wage_1 given occupation ==  Exec-managerial: 0.0\n",
      "\n",
      "Mean wage_1 given occupation ==  Handlers-cleaners: 0.063\n",
      "Median wage_1 given occupation ==  Handlers-cleaners: 0.0\n",
      "\n",
      "Mean wage_1 given occupation ==  Prof-specialty: 0.449\n",
      "Median wage_1 given occupation ==  Prof-specialty: 0.0\n",
      "\n",
      "Mean wage_1 given occupation ==  Other-service: 0.042\n",
      "Median wage_1 given occupation ==  Other-service: 0.0\n",
      "\n",
      "Mean wage_1 given occupation ==  Sales: 0.269\n",
      "Median wage_1 given occupation ==  Sales: 0.0\n",
      "\n",
      "Mean wage_1 given occupation ==  Craft-repair: 0.227\n",
      "Median wage_1 given occupation ==  Craft-repair: 0.0\n",
      "\n",
      "Mean wage_1 given occupation ==  Transport-moving: 0.2\n",
      "Median wage_1 given occupation ==  Transport-moving: 0.0\n",
      "\n",
      "Mean wage_1 given occupation ==  Farming-fishing: 0.116\n",
      "Median wage_1 given occupation ==  Farming-fishing: 0.0\n",
      "\n",
      "Mean wage_1 given occupation ==  Machine-op-inspct: 0.125\n",
      "Median wage_1 given occupation ==  Machine-op-inspct: 0.0\n",
      "\n",
      "Mean wage_1 given occupation ==  Tech-support: 0.305\n",
      "Median wage_1 given occupation ==  Tech-support: 0.0\n",
      "\n",
      "Mean wage_1 given occupation ==  ?: 0.104\n",
      "Median wage_1 given occupation ==  ?: 0.0\n",
      "\n",
      "Mean wage_1 given occupation ==  Protective-serv: 0.325\n",
      "Median wage_1 given occupation ==  Protective-serv: 0.0\n",
      "\n",
      "Mean wage_1 given occupation ==  Armed-Forces: 0.111\n",
      "Median wage_1 given occupation ==  Armed-Forces: 0.0\n",
      "\n",
      "Mean wage_1 given occupation ==  Priv-house-serv: 0.007\n",
      "Median wage_1 given occupation ==  Priv-house-serv: 0.0\n",
      "\n"
     ]
    }
   ],
   "source": [
    "cat_mean_median(df_train_data, 'occupation', 'wage_1')"
   ]
  },
  {
   "cell_type": "code",
   "execution_count": 131,
   "metadata": {},
   "outputs": [
    {
     "name": "stdout",
     "output_type": "stream",
     "text": [
      "h_0: mean wage_1 given occupation = x == mean wage_1 given occupation != x. \n",
      "\n",
      "h_a: mean wage_1 given occupation = x != mean wage_1 given occupation != x. \n",
      "\n",
      "Significance level of 0.05\n",
      "\n",
      "\n",
      "For  Adm-clerical reject h_0: p-value of 4.34997206421731e-83\n",
      "For  Exec-managerial reject h_0: p-value of 2.3387874767759288e-226\n",
      "For  Handlers-cleaners reject h_0: p-value of 3.6281815223797586e-131\n",
      "For  Prof-specialty reject h_0: p-value of 7.192254114663988e-176\n",
      "For  Other-service reject h_0: p-value of 0.0\n",
      "For  Sales reject h_0: p-value of 3.56383202395801e-05\n",
      "For  Craft-repair reject h_0: p-value of 0.020914972616090727\n",
      "For  Transport-moving reject h_0: p-value of 3.904013355569732e-05\n",
      "For  Farming-fishing reject h_0: p-value of 5.2437083029024904e-33\n",
      "For  Machine-op-inspct reject h_0: p-value of 5.64573237099448e-54\n",
      "For  Tech-support reject h_0: p-value of 1.776147482518739e-05\n",
      "For  ? reject h_0: p-value of 2.2820676164668833e-77\n",
      "For  Protective-serv reject h_0: p-value of 4.273714225996773e-06\n",
      "For  Armed-Forces Fail to reject h_0: p-value of 0.27665543719994634\n",
      "For  Priv-house-serv reject h_0: p-value of 4.404534671567128e-80\n"
     ]
    }
   ],
   "source": [
    "cat_tt(df_train_data, 'occupation', 'wage_1')"
   ]
  },
  {
   "cell_type": "code",
   "execution_count": 132,
   "metadata": {},
   "outputs": [],
   "source": [
    "df_train_data['occupation_com'] = df_train_data['occupation']\n",
    "df_train_data['occupation_com'] = df_train_data['occupation_com'].map(lambda x: 'professional' if x.strip() in ['Prof-specialty', 'Exec-managerial'] else x)\n",
    "df_train_data['occupation_com'] = df_train_data['occupation_com'].map(lambda x: 'house_services' if x.strip() in ['Priv-house-serv', 'Handlers-cleaners'] else x)\n",
    "df_train_data['occupation_com'] = df_train_data['occupation_com'].map(lambda x: 'specialty' if x.strip() in ['Machine-op-inspct', 'Transport-moving', 'Craft-repair', 'Farming-fishing'] else x)\n",
    "df_train_data['occupation_com'] = df_train_data['occupation_com'].map(lambda x: 'tech/sales' if x.strip() in ['Tech-support', 'Protective-serv', 'Sales'] else x)\n",
    "df_train_data['occupation_com'] = df_train_data['occupation_com'].map(lambda x: 'other' if x.strip() in ['?', 'Other-service', 'Adm-clerical', 'Armed-Forces'] else x)\n"
   ]
  },
  {
   "cell_type": "code",
   "execution_count": 133,
   "metadata": {
    "scrolled": true
   },
   "outputs": [
    {
     "data": {
      "text/plain": [
       "other             8917\n",
       "specialty         8692\n",
       "professional      8206\n",
       "tech/sales        5227\n",
       "house_services    1519\n",
       "Name: occupation_com, dtype: int64"
      ]
     },
     "execution_count": 133,
     "metadata": {},
     "output_type": "execute_result"
    }
   ],
   "source": [
    "df_train_data['occupation_com'].value_counts()"
   ]
  },
  {
   "cell_type": "code",
   "execution_count": 134,
   "metadata": {},
   "outputs": [
    {
     "name": "stdout",
     "output_type": "stream",
     "text": [
      "Mean wage_1 given occupation_com == other: 0.094\n",
      "Median wage_1 given occupation_com == other: 0.0\n",
      "\n",
      "Mean wage_1 given occupation_com == professional: 0.466\n",
      "Median wage_1 given occupation_com == professional: 0.0\n",
      "\n",
      "Mean wage_1 given occupation_com == house_services: 0.057\n",
      "Median wage_1 given occupation_com == house_services: 0.0\n",
      "\n",
      "Mean wage_1 given occupation_com == tech/sales: 0.283\n",
      "Median wage_1 given occupation_com == tech/sales: 0.0\n",
      "\n",
      "Mean wage_1 given occupation_com == specialty: 0.186\n",
      "Median wage_1 given occupation_com == specialty: 0.0\n",
      "\n"
     ]
    }
   ],
   "source": [
    "cat_mean_median(df_train_data, 'occupation_com', 'wage_1')"
   ]
  },
  {
   "cell_type": "code",
   "execution_count": 135,
   "metadata": {
    "scrolled": true
   },
   "outputs": [
    {
     "name": "stdout",
     "output_type": "stream",
     "text": [
      "h_0: mean wage_1 given occupation_com = x == mean wage_1 given occupation_com != x. \n",
      "\n",
      "h_a: mean wage_1 given occupation_com = x != mean wage_1 given occupation_com != x. \n",
      "\n",
      "Significance level of 0.05\n",
      "\n",
      "\n",
      "For other reject h_0: p-value of 0.0\n",
      "For professional reject h_0: p-value of 0.0\n",
      "For house_services reject h_0: p-value of 3.7670536875513317e-163\n",
      "For tech/sales reject h_0: p-value of 1.6461497838252915e-13\n",
      "For specialty reject h_0: p-value of 6.986555793167537e-50\n"
     ]
    }
   ],
   "source": [
    "cat_tt(df_train_data, 'occupation_com', 'wage_1')"
   ]
  },
  {
   "cell_type": "markdown",
   "metadata": {},
   "source": [
    "### Drop columns\n",
    "\n",
    "The following columns will be dropped:\n",
    "- marital-status\n",
    "- fnlwgt\n",
    "- education\n",
    "- workclass\n",
    "- occupation"
   ]
  },
  {
   "cell_type": "code",
   "execution_count": 136,
   "metadata": {},
   "outputs": [],
   "source": [
    "df_train_data.drop(['marital-status', 'fnlwgt', 'education', 'workclass', 'occupation'], axis=1, inplace=True)"
   ]
  },
  {
   "cell_type": "markdown",
   "metadata": {},
   "source": [
    "### Dummifiying Values\n",
    "\n",
    "The following columns will be dummified. Note: the drop_first will be set to false. We want to control which columns/data to be dropped\n",
    "\n",
    "- occupation_com\n",
    "- workclass_com\n"
   ]
  },
  {
   "cell_type": "code",
   "execution_count": 138,
   "metadata": {},
   "outputs": [],
   "source": [
    "df_train_data = pd.get_dummies(df_train_data, columns= ['occupation_com', 'workclass_com'])"
   ]
  },
  {
   "cell_type": "code",
   "execution_count": null,
   "metadata": {},
   "outputs": [],
   "source": []
  },
  {
   "cell_type": "markdown",
   "metadata": {},
   "source": [
    "# Set up new data frame\n",
    "\n",
    "This section is the quick reduced version of the code above. Its set up so that it can be passed between team members.\n",
    "Bring in the training data, change data, and save data"
   ]
  },
  {
   "cell_type": "code",
   "execution_count": 139,
   "metadata": {},
   "outputs": [],
   "source": [
    "df_train_data = pd.read_csv('./data/large_train_sample.csv')"
   ]
  },
  {
   "cell_type": "code",
   "execution_count": 140,
   "metadata": {},
   "outputs": [],
   "source": [
    "df_train_data['wage_1'] = df_train_data['wage'].map(lambda x: 0 if x == ' <=50K' else 1)"
   ]
  },
  {
   "cell_type": "code",
   "execution_count": 141,
   "metadata": {},
   "outputs": [],
   "source": [
    "df_train_data['workclass_com'] = df_train_data['workclass']\n",
    "df_train_data['workclass_com'] = df_train_data['workclass_com'].map(lambda x: 'Private' if x == ' Private' else x)\n",
    "df_train_data['workclass_com'] = df_train_data['workclass_com'].map(lambda x: 'Other' if x.strip() in ['?', 'Never-worked', 'Without-pay'] else x)\n",
    "df_train_data['workclass_com'] = df_train_data['workclass_com'].map(lambda x: 'Government' if x.strip() in ['Federal-gov', 'State-gov', 'Local-gov'] else x)\n",
    "df_train_data['workclass_com'] = df_train_data['workclass_com'].map(lambda x: 'Self-employed' if x.strip() in ['Self-emp-not-inc', 'Self-emp-inc'] else x)"
   ]
  },
  {
   "cell_type": "code",
   "execution_count": 142,
   "metadata": {},
   "outputs": [],
   "source": [
    "df_train_data['marital_status_num'] = df_train_data['marital-status'].map(lambda x: 1 if x.strip() in ['Married-civ-spouse', 'Married-AF-spouse'] else 0)\n"
   ]
  },
  {
   "cell_type": "code",
   "execution_count": 143,
   "metadata": {},
   "outputs": [],
   "source": [
    "df_train_data['occupation_com'] = df_train_data['occupation']\n",
    "df_train_data['occupation_com'] = df_train_data['occupation_com'].map(lambda x: 'professional' if x.strip() in ['Prof-specialty', 'Exec-managerial'] else x)\n",
    "df_train_data['occupation_com'] = df_train_data['occupation_com'].map(lambda x: 'house_services' if x.strip() in ['Priv-house-serv', 'Handlers-cleaners'] else x)\n",
    "df_train_data['occupation_com'] = df_train_data['occupation_com'].map(lambda x: 'specialty' if x.strip() in ['Machine-op-inspct', 'Transport-moving', 'Craft-repair', 'Farming-fishing'] else x)\n",
    "df_train_data['occupation_com'] = df_train_data['occupation_com'].map(lambda x: 'tech/sales' if x.strip() in ['Tech-support', 'Protective-serv', 'Sales'] else x)\n",
    "df_train_data['occupation_com'] = df_train_data['occupation_com'].map(lambda x: 'other' if x.strip() in ['?', 'Other-service', 'Adm-clerical', 'Armed-Forces'] else x)\n"
   ]
  },
  {
   "cell_type": "code",
   "execution_count": 144,
   "metadata": {},
   "outputs": [],
   "source": [
    "df_train_data.drop(['marital-status', 'fnlwgt', 'education', 'workclass', 'occupation'], axis=1, inplace=True)"
   ]
  },
  {
   "cell_type": "code",
   "execution_count": 145,
   "metadata": {},
   "outputs": [],
   "source": [
    "df_train_data = pd.get_dummies(df_train_data, columns= ['occupation_com', 'workclass_com'])"
   ]
  },
  {
   "cell_type": "markdown",
   "metadata": {},
   "source": [
    "The next section is code from Magnus Bigelow"
   ]
  },
  {
   "cell_type": "code",
   "execution_count": 146,
   "metadata": {},
   "outputs": [],
   "source": [
    "df_train_data['sex'] = df_train_data['sex'].map(lambda x: 0 if x == ' male' else 1)"
   ]
  },
  {
   "cell_type": "code",
   "execution_count": 147,
   "metadata": {},
   "outputs": [],
   "source": [
    "df_train_data.drop(['relationship', 'native-country'], axis=1, inplace=True)"
   ]
  },
  {
   "cell_type": "markdown",
   "metadata": {},
   "source": [
    "View the data"
   ]
  },
  {
   "cell_type": "code",
   "execution_count": 148,
   "metadata": {},
   "outputs": [
    {
     "data": {
      "text/html": [
       "<div>\n",
       "<style scoped>\n",
       "    .dataframe tbody tr th:only-of-type {\n",
       "        vertical-align: middle;\n",
       "    }\n",
       "\n",
       "    .dataframe tbody tr th {\n",
       "        vertical-align: top;\n",
       "    }\n",
       "\n",
       "    .dataframe thead th {\n",
       "        text-align: right;\n",
       "    }\n",
       "</style>\n",
       "<table border=\"1\" class=\"dataframe\">\n",
       "  <thead>\n",
       "    <tr style=\"text-align: right;\">\n",
       "      <th></th>\n",
       "      <th>age</th>\n",
       "      <th>education-num</th>\n",
       "      <th>sex</th>\n",
       "      <th>capital-gain</th>\n",
       "      <th>capital-loss</th>\n",
       "      <th>hours-per-week</th>\n",
       "      <th>wage</th>\n",
       "      <th>wage_1</th>\n",
       "      <th>marital_status_num</th>\n",
       "      <th>occupation_com_house_services</th>\n",
       "      <th>occupation_com_other</th>\n",
       "      <th>occupation_com_professional</th>\n",
       "      <th>occupation_com_specialty</th>\n",
       "      <th>occupation_com_tech/sales</th>\n",
       "      <th>workclass_com_Government</th>\n",
       "      <th>workclass_com_Other</th>\n",
       "      <th>workclass_com_Private</th>\n",
       "      <th>workclass_com_Self-employed</th>\n",
       "    </tr>\n",
       "  </thead>\n",
       "  <tbody>\n",
       "    <tr>\n",
       "      <th>0</th>\n",
       "      <td>39</td>\n",
       "      <td>13</td>\n",
       "      <td>1</td>\n",
       "      <td>2174</td>\n",
       "      <td>0</td>\n",
       "      <td>40</td>\n",
       "      <td>&lt;=50K</td>\n",
       "      <td>0</td>\n",
       "      <td>0</td>\n",
       "      <td>0</td>\n",
       "      <td>1</td>\n",
       "      <td>0</td>\n",
       "      <td>0</td>\n",
       "      <td>0</td>\n",
       "      <td>1</td>\n",
       "      <td>0</td>\n",
       "      <td>0</td>\n",
       "      <td>0</td>\n",
       "    </tr>\n",
       "    <tr>\n",
       "      <th>1</th>\n",
       "      <td>50</td>\n",
       "      <td>13</td>\n",
       "      <td>1</td>\n",
       "      <td>0</td>\n",
       "      <td>0</td>\n",
       "      <td>13</td>\n",
       "      <td>&lt;=50K</td>\n",
       "      <td>0</td>\n",
       "      <td>1</td>\n",
       "      <td>0</td>\n",
       "      <td>0</td>\n",
       "      <td>1</td>\n",
       "      <td>0</td>\n",
       "      <td>0</td>\n",
       "      <td>0</td>\n",
       "      <td>0</td>\n",
       "      <td>0</td>\n",
       "      <td>1</td>\n",
       "    </tr>\n",
       "    <tr>\n",
       "      <th>2</th>\n",
       "      <td>38</td>\n",
       "      <td>9</td>\n",
       "      <td>1</td>\n",
       "      <td>0</td>\n",
       "      <td>0</td>\n",
       "      <td>40</td>\n",
       "      <td>&lt;=50K</td>\n",
       "      <td>0</td>\n",
       "      <td>0</td>\n",
       "      <td>1</td>\n",
       "      <td>0</td>\n",
       "      <td>0</td>\n",
       "      <td>0</td>\n",
       "      <td>0</td>\n",
       "      <td>0</td>\n",
       "      <td>0</td>\n",
       "      <td>1</td>\n",
       "      <td>0</td>\n",
       "    </tr>\n",
       "    <tr>\n",
       "      <th>3</th>\n",
       "      <td>53</td>\n",
       "      <td>7</td>\n",
       "      <td>1</td>\n",
       "      <td>0</td>\n",
       "      <td>0</td>\n",
       "      <td>40</td>\n",
       "      <td>&lt;=50K</td>\n",
       "      <td>0</td>\n",
       "      <td>1</td>\n",
       "      <td>1</td>\n",
       "      <td>0</td>\n",
       "      <td>0</td>\n",
       "      <td>0</td>\n",
       "      <td>0</td>\n",
       "      <td>0</td>\n",
       "      <td>0</td>\n",
       "      <td>1</td>\n",
       "      <td>0</td>\n",
       "    </tr>\n",
       "    <tr>\n",
       "      <th>4</th>\n",
       "      <td>28</td>\n",
       "      <td>13</td>\n",
       "      <td>1</td>\n",
       "      <td>0</td>\n",
       "      <td>0</td>\n",
       "      <td>40</td>\n",
       "      <td>&lt;=50K</td>\n",
       "      <td>0</td>\n",
       "      <td>1</td>\n",
       "      <td>0</td>\n",
       "      <td>0</td>\n",
       "      <td>1</td>\n",
       "      <td>0</td>\n",
       "      <td>0</td>\n",
       "      <td>0</td>\n",
       "      <td>0</td>\n",
       "      <td>1</td>\n",
       "      <td>0</td>\n",
       "    </tr>\n",
       "  </tbody>\n",
       "</table>\n",
       "</div>"
      ],
      "text/plain": [
       "   age  education-num  sex  capital-gain  capital-loss  hours-per-week  \\\n",
       "0   39             13    1          2174             0              40   \n",
       "1   50             13    1             0             0              13   \n",
       "2   38              9    1             0             0              40   \n",
       "3   53              7    1             0             0              40   \n",
       "4   28             13    1             0             0              40   \n",
       "\n",
       "     wage  wage_1  marital_status_num  occupation_com_house_services  \\\n",
       "0   <=50K       0                   0                              0   \n",
       "1   <=50K       0                   1                              0   \n",
       "2   <=50K       0                   0                              1   \n",
       "3   <=50K       0                   1                              1   \n",
       "4   <=50K       0                   1                              0   \n",
       "\n",
       "   occupation_com_other  occupation_com_professional  \\\n",
       "0                     1                            0   \n",
       "1                     0                            1   \n",
       "2                     0                            0   \n",
       "3                     0                            0   \n",
       "4                     0                            1   \n",
       "\n",
       "   occupation_com_specialty  occupation_com_tech/sales  \\\n",
       "0                         0                          0   \n",
       "1                         0                          0   \n",
       "2                         0                          0   \n",
       "3                         0                          0   \n",
       "4                         0                          0   \n",
       "\n",
       "   workclass_com_Government  workclass_com_Other  workclass_com_Private  \\\n",
       "0                         1                    0                      0   \n",
       "1                         0                    0                      0   \n",
       "2                         0                    0                      1   \n",
       "3                         0                    0                      1   \n",
       "4                         0                    0                      1   \n",
       "\n",
       "   workclass_com_Self-employed  \n",
       "0                            0  \n",
       "1                            1  \n",
       "2                            0  \n",
       "3                            0  \n",
       "4                            0  "
      ]
     },
     "execution_count": 148,
     "metadata": {},
     "output_type": "execute_result"
    }
   ],
   "source": [
    "df_train_data.head()"
   ]
  },
  {
   "cell_type": "code",
   "execution_count": 149,
   "metadata": {
    "scrolled": true
   },
   "outputs": [
    {
     "data": {
      "text/plain": [
       "(32561, 18)"
      ]
     },
     "execution_count": 149,
     "metadata": {},
     "output_type": "execute_result"
    }
   ],
   "source": [
    "df_train_data.shape"
   ]
  },
  {
   "cell_type": "markdown",
   "metadata": {},
   "source": [
    "Save the data"
   ]
  },
  {
   "cell_type": "code",
   "execution_count": 150,
   "metadata": {},
   "outputs": [],
   "source": [
    "df_train_data.to_csv('./data/clean_train_1.csv', index=False)\n"
   ]
  },
  {
   "cell_type": "code",
   "execution_count": null,
   "metadata": {},
   "outputs": [],
   "source": []
  },
  {
   "cell_type": "markdown",
   "metadata": {},
   "source": [
    "# Test data\n",
    "\n",
    "### Retrieve the test data and perform the same alteration as the training data, then save the data\n",
    "Note: no 'wage' data in this data set"
   ]
  },
  {
   "cell_type": "code",
   "execution_count": 81,
   "metadata": {},
   "outputs": [],
   "source": [
    "df_test_data = pd.read_csv('./data/test_data.csv')"
   ]
  },
  {
   "cell_type": "code",
   "execution_count": 82,
   "metadata": {
    "scrolled": true
   },
   "outputs": [
    {
     "data": {
      "text/html": [
       "<div>\n",
       "<style scoped>\n",
       "    .dataframe tbody tr th:only-of-type {\n",
       "        vertical-align: middle;\n",
       "    }\n",
       "\n",
       "    .dataframe tbody tr th {\n",
       "        vertical-align: top;\n",
       "    }\n",
       "\n",
       "    .dataframe thead th {\n",
       "        text-align: right;\n",
       "    }\n",
       "</style>\n",
       "<table border=\"1\" class=\"dataframe\">\n",
       "  <thead>\n",
       "    <tr style=\"text-align: right;\">\n",
       "      <th></th>\n",
       "      <th>age</th>\n",
       "      <th>workclass</th>\n",
       "      <th>fnlwgt</th>\n",
       "      <th>education</th>\n",
       "      <th>education-num</th>\n",
       "      <th>marital-status</th>\n",
       "      <th>occupation</th>\n",
       "      <th>relationship</th>\n",
       "      <th>sex</th>\n",
       "      <th>capital-gain</th>\n",
       "      <th>capital-loss</th>\n",
       "      <th>hours-per-week</th>\n",
       "      <th>native-country</th>\n",
       "    </tr>\n",
       "  </thead>\n",
       "  <tbody>\n",
       "    <tr>\n",
       "      <th>0</th>\n",
       "      <td>25</td>\n",
       "      <td>Private</td>\n",
       "      <td>226802</td>\n",
       "      <td>11th</td>\n",
       "      <td>7</td>\n",
       "      <td>Never-married</td>\n",
       "      <td>Machine-op-inspct</td>\n",
       "      <td>Own-child</td>\n",
       "      <td>Male</td>\n",
       "      <td>0</td>\n",
       "      <td>0</td>\n",
       "      <td>40</td>\n",
       "      <td>United-States</td>\n",
       "    </tr>\n",
       "    <tr>\n",
       "      <th>1</th>\n",
       "      <td>38</td>\n",
       "      <td>Private</td>\n",
       "      <td>89814</td>\n",
       "      <td>HS-grad</td>\n",
       "      <td>9</td>\n",
       "      <td>Married-civ-spouse</td>\n",
       "      <td>Farming-fishing</td>\n",
       "      <td>Husband</td>\n",
       "      <td>Male</td>\n",
       "      <td>0</td>\n",
       "      <td>0</td>\n",
       "      <td>50</td>\n",
       "      <td>United-States</td>\n",
       "    </tr>\n",
       "    <tr>\n",
       "      <th>2</th>\n",
       "      <td>28</td>\n",
       "      <td>Local-gov</td>\n",
       "      <td>336951</td>\n",
       "      <td>Assoc-acdm</td>\n",
       "      <td>12</td>\n",
       "      <td>Married-civ-spouse</td>\n",
       "      <td>Protective-serv</td>\n",
       "      <td>Husband</td>\n",
       "      <td>Male</td>\n",
       "      <td>0</td>\n",
       "      <td>0</td>\n",
       "      <td>40</td>\n",
       "      <td>United-States</td>\n",
       "    </tr>\n",
       "    <tr>\n",
       "      <th>3</th>\n",
       "      <td>44</td>\n",
       "      <td>Private</td>\n",
       "      <td>160323</td>\n",
       "      <td>Some-college</td>\n",
       "      <td>10</td>\n",
       "      <td>Married-civ-spouse</td>\n",
       "      <td>Machine-op-inspct</td>\n",
       "      <td>Husband</td>\n",
       "      <td>Male</td>\n",
       "      <td>7688</td>\n",
       "      <td>0</td>\n",
       "      <td>40</td>\n",
       "      <td>United-States</td>\n",
       "    </tr>\n",
       "    <tr>\n",
       "      <th>4</th>\n",
       "      <td>18</td>\n",
       "      <td>?</td>\n",
       "      <td>103497</td>\n",
       "      <td>Some-college</td>\n",
       "      <td>10</td>\n",
       "      <td>Never-married</td>\n",
       "      <td>?</td>\n",
       "      <td>Own-child</td>\n",
       "      <td>Female</td>\n",
       "      <td>0</td>\n",
       "      <td>0</td>\n",
       "      <td>30</td>\n",
       "      <td>United-States</td>\n",
       "    </tr>\n",
       "  </tbody>\n",
       "</table>\n",
       "</div>"
      ],
      "text/plain": [
       "   age   workclass  fnlwgt      education  education-num       marital-status  \\\n",
       "0   25     Private  226802           11th              7        Never-married   \n",
       "1   38     Private   89814        HS-grad              9   Married-civ-spouse   \n",
       "2   28   Local-gov  336951     Assoc-acdm             12   Married-civ-spouse   \n",
       "3   44     Private  160323   Some-college             10   Married-civ-spouse   \n",
       "4   18           ?  103497   Some-college             10        Never-married   \n",
       "\n",
       "           occupation relationship      sex  capital-gain  capital-loss  \\\n",
       "0   Machine-op-inspct    Own-child     Male             0             0   \n",
       "1     Farming-fishing      Husband     Male             0             0   \n",
       "2     Protective-serv      Husband     Male             0             0   \n",
       "3   Machine-op-inspct      Husband     Male          7688             0   \n",
       "4                   ?    Own-child   Female             0             0   \n",
       "\n",
       "   hours-per-week  native-country  \n",
       "0              40   United-States  \n",
       "1              50   United-States  \n",
       "2              40   United-States  \n",
       "3              40   United-States  \n",
       "4              30   United-States  "
      ]
     },
     "execution_count": 82,
     "metadata": {},
     "output_type": "execute_result"
    }
   ],
   "source": [
    "df_test_data.head()"
   ]
  },
  {
   "cell_type": "code",
   "execution_count": 83,
   "metadata": {},
   "outputs": [
    {
     "data": {
      "text/plain": [
       "(16281, 13)"
      ]
     },
     "execution_count": 83,
     "metadata": {},
     "output_type": "execute_result"
    }
   ],
   "source": [
    "df_test_data.shape"
   ]
  },
  {
   "cell_type": "code",
   "execution_count": 84,
   "metadata": {},
   "outputs": [],
   "source": [
    "df_test_data['workclass_com'] = df_test_data['workclass']\n",
    "df_test_data['workclass_com'] = df_test_data['workclass_com'].map(lambda x: 'Private' if x == ' Private' else x)\n",
    "df_test_data['workclass_com'] = df_test_data['workclass_com'].map(lambda x: 'Other' if x.strip() in ['?', 'Never-worked', 'Without-pay'] else x)\n",
    "df_test_data['workclass_com'] = df_test_data['workclass_com'].map(lambda x: 'Government' if x.strip() in ['Federal-gov', 'State-gov', 'Local-gov'] else x)\n",
    "df_test_data['workclass_com'] = df_test_data['workclass_com'].map(lambda x: 'Self-employed' if x.strip() in ['Self-emp-not-inc', 'Self-emp-inc'] else x)"
   ]
  },
  {
   "cell_type": "code",
   "execution_count": 85,
   "metadata": {},
   "outputs": [],
   "source": [
    "df_test_data['marital_status_num'] = df_train_data['marital-status'].map(lambda x: 1 if x.strip() in ['Married-civ-spouse', 'Married-AF-spouse'] else 0)\n"
   ]
  },
  {
   "cell_type": "code",
   "execution_count": 86,
   "metadata": {},
   "outputs": [],
   "source": [
    "df_test_data['occupation_com'] = df_test_data['occupation']\n",
    "df_test_data['occupation_com'] = df_test_data['occupation_com'].map(lambda x: 'professional' if x.strip() in ['Prof-specialty', 'Exec-managerial'] else x)\n",
    "df_test_data['occupation_com'] = df_test_data['occupation_com'].map(lambda x: 'house_services' if x.strip() in ['Priv-house-serv', 'Handlers-cleaners'] else x)\n",
    "df_test_data['occupation_com'] = df_test_data['occupation_com'].map(lambda x: 'specialty' if x.strip() in ['Machine-op-inspct', 'Transport-moving', 'Craft-repair', 'Farming-fishing'] else x)\n",
    "df_test_data['occupation_com'] = df_test_data['occupation_com'].map(lambda x: 'tech/sales' if x.strip() in ['Tech-support', 'Protective-serv', 'Sales'] else x)\n",
    "df_test_data['occupation_com'] = df_test_data['occupation_com'].map(lambda x: 'other' if x.strip() in ['?', 'Other-service', 'Adm-clerical', 'Armed-Forces'] else x)\n"
   ]
  },
  {
   "cell_type": "code",
   "execution_count": 87,
   "metadata": {},
   "outputs": [],
   "source": [
    "df_test_data.drop(['marital-status', 'fnlwgt', 'education', 'workclass', 'occupation'], axis=1, inplace=True)"
   ]
  },
  {
   "cell_type": "code",
   "execution_count": 88,
   "metadata": {},
   "outputs": [],
   "source": [
    "df_test_data = pd.get_dummies(df_test_data, columns= ['occupation_com', 'workclass_com'])"
   ]
  },
  {
   "cell_type": "code",
   "execution_count": 89,
   "metadata": {},
   "outputs": [],
   "source": [
    "df_test_data['sex'] = df_test_data['sex'].map(lambda x: 0 if x == ' male' else 1)"
   ]
  },
  {
   "cell_type": "code",
   "execution_count": 90,
   "metadata": {},
   "outputs": [],
   "source": [
    "df_test_data.drop(['relationship', 'native-country'], axis=1, inplace=True)"
   ]
  },
  {
   "cell_type": "code",
   "execution_count": 91,
   "metadata": {},
   "outputs": [
    {
     "data": {
      "text/plain": [
       "(16281, 16)"
      ]
     },
     "execution_count": 91,
     "metadata": {},
     "output_type": "execute_result"
    }
   ],
   "source": [
    "df_test_data.shape"
   ]
  },
  {
   "cell_type": "code",
   "execution_count": 92,
   "metadata": {},
   "outputs": [
    {
     "data": {
      "text/html": [
       "<div>\n",
       "<style scoped>\n",
       "    .dataframe tbody tr th:only-of-type {\n",
       "        vertical-align: middle;\n",
       "    }\n",
       "\n",
       "    .dataframe tbody tr th {\n",
       "        vertical-align: top;\n",
       "    }\n",
       "\n",
       "    .dataframe thead th {\n",
       "        text-align: right;\n",
       "    }\n",
       "</style>\n",
       "<table border=\"1\" class=\"dataframe\">\n",
       "  <thead>\n",
       "    <tr style=\"text-align: right;\">\n",
       "      <th></th>\n",
       "      <th>0</th>\n",
       "      <th>1</th>\n",
       "      <th>2</th>\n",
       "      <th>3</th>\n",
       "      <th>4</th>\n",
       "    </tr>\n",
       "  </thead>\n",
       "  <tbody>\n",
       "    <tr>\n",
       "      <th>age</th>\n",
       "      <td>25</td>\n",
       "      <td>38</td>\n",
       "      <td>28</td>\n",
       "      <td>44</td>\n",
       "      <td>18</td>\n",
       "    </tr>\n",
       "    <tr>\n",
       "      <th>education-num</th>\n",
       "      <td>7</td>\n",
       "      <td>9</td>\n",
       "      <td>12</td>\n",
       "      <td>10</td>\n",
       "      <td>10</td>\n",
       "    </tr>\n",
       "    <tr>\n",
       "      <th>sex</th>\n",
       "      <td>1</td>\n",
       "      <td>1</td>\n",
       "      <td>1</td>\n",
       "      <td>1</td>\n",
       "      <td>1</td>\n",
       "    </tr>\n",
       "    <tr>\n",
       "      <th>capital-gain</th>\n",
       "      <td>0</td>\n",
       "      <td>0</td>\n",
       "      <td>0</td>\n",
       "      <td>7688</td>\n",
       "      <td>0</td>\n",
       "    </tr>\n",
       "    <tr>\n",
       "      <th>capital-loss</th>\n",
       "      <td>0</td>\n",
       "      <td>0</td>\n",
       "      <td>0</td>\n",
       "      <td>0</td>\n",
       "      <td>0</td>\n",
       "    </tr>\n",
       "    <tr>\n",
       "      <th>hours-per-week</th>\n",
       "      <td>40</td>\n",
       "      <td>50</td>\n",
       "      <td>40</td>\n",
       "      <td>40</td>\n",
       "      <td>30</td>\n",
       "    </tr>\n",
       "    <tr>\n",
       "      <th>marital_status_num</th>\n",
       "      <td>0</td>\n",
       "      <td>1</td>\n",
       "      <td>0</td>\n",
       "      <td>1</td>\n",
       "      <td>1</td>\n",
       "    </tr>\n",
       "    <tr>\n",
       "      <th>occupation_com_house_services</th>\n",
       "      <td>0</td>\n",
       "      <td>0</td>\n",
       "      <td>0</td>\n",
       "      <td>0</td>\n",
       "      <td>0</td>\n",
       "    </tr>\n",
       "    <tr>\n",
       "      <th>occupation_com_other</th>\n",
       "      <td>0</td>\n",
       "      <td>0</td>\n",
       "      <td>0</td>\n",
       "      <td>0</td>\n",
       "      <td>1</td>\n",
       "    </tr>\n",
       "    <tr>\n",
       "      <th>occupation_com_professional</th>\n",
       "      <td>0</td>\n",
       "      <td>0</td>\n",
       "      <td>0</td>\n",
       "      <td>0</td>\n",
       "      <td>0</td>\n",
       "    </tr>\n",
       "    <tr>\n",
       "      <th>occupation_com_specialty</th>\n",
       "      <td>1</td>\n",
       "      <td>1</td>\n",
       "      <td>0</td>\n",
       "      <td>1</td>\n",
       "      <td>0</td>\n",
       "    </tr>\n",
       "    <tr>\n",
       "      <th>occupation_com_tech/sales</th>\n",
       "      <td>0</td>\n",
       "      <td>0</td>\n",
       "      <td>1</td>\n",
       "      <td>0</td>\n",
       "      <td>0</td>\n",
       "    </tr>\n",
       "    <tr>\n",
       "      <th>workclass_com_Government</th>\n",
       "      <td>0</td>\n",
       "      <td>0</td>\n",
       "      <td>1</td>\n",
       "      <td>0</td>\n",
       "      <td>0</td>\n",
       "    </tr>\n",
       "    <tr>\n",
       "      <th>workclass_com_Other</th>\n",
       "      <td>0</td>\n",
       "      <td>0</td>\n",
       "      <td>0</td>\n",
       "      <td>0</td>\n",
       "      <td>1</td>\n",
       "    </tr>\n",
       "    <tr>\n",
       "      <th>workclass_com_Private</th>\n",
       "      <td>1</td>\n",
       "      <td>1</td>\n",
       "      <td>0</td>\n",
       "      <td>1</td>\n",
       "      <td>0</td>\n",
       "    </tr>\n",
       "    <tr>\n",
       "      <th>workclass_com_Self-employed</th>\n",
       "      <td>0</td>\n",
       "      <td>0</td>\n",
       "      <td>0</td>\n",
       "      <td>0</td>\n",
       "      <td>0</td>\n",
       "    </tr>\n",
       "  </tbody>\n",
       "</table>\n",
       "</div>"
      ],
      "text/plain": [
       "                                0   1   2     3   4\n",
       "age                            25  38  28    44  18\n",
       "education-num                   7   9  12    10  10\n",
       "sex                             1   1   1     1   1\n",
       "capital-gain                    0   0   0  7688   0\n",
       "capital-loss                    0   0   0     0   0\n",
       "hours-per-week                 40  50  40    40  30\n",
       "marital_status_num              0   1   0     1   1\n",
       "occupation_com_house_services   0   0   0     0   0\n",
       "occupation_com_other            0   0   0     0   1\n",
       "occupation_com_professional     0   0   0     0   0\n",
       "occupation_com_specialty        1   1   0     1   0\n",
       "occupation_com_tech/sales       0   0   1     0   0\n",
       "workclass_com_Government        0   0   1     0   0\n",
       "workclass_com_Other             0   0   0     0   1\n",
       "workclass_com_Private           1   1   0     1   0\n",
       "workclass_com_Self-employed     0   0   0     0   0"
      ]
     },
     "execution_count": 92,
     "metadata": {},
     "output_type": "execute_result"
    }
   ],
   "source": [
    "df_test_data.head().T"
   ]
  },
  {
   "cell_type": "code",
   "execution_count": 93,
   "metadata": {},
   "outputs": [],
   "source": [
    "df_test_data.to_csv('./data/clean_test_1.csv', index=False)"
   ]
  },
  {
   "cell_type": "code",
   "execution_count": null,
   "metadata": {},
   "outputs": [],
   "source": []
  }
 ],
 "metadata": {
  "kernelspec": {
   "display_name": "Python 3",
   "language": "python",
   "name": "python3"
  },
  "language_info": {
   "codemirror_mode": {
    "name": "ipython",
    "version": 3
   },
   "file_extension": ".py",
   "mimetype": "text/x-python",
   "name": "python",
   "nbconvert_exporter": "python",
   "pygments_lexer": "ipython3",
   "version": "3.7.4"
  }
 },
 "nbformat": 4,
 "nbformat_minor": 2
}
