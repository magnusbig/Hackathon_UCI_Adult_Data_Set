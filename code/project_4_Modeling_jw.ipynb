{
 "cells": [
  {
   "cell_type": "markdown",
   "metadata": {},
   "source": [
    "# Project 4 - Hackathon (Predicting Income under Team Features Constraint)\n",
    "\n",
    "* Choose algorithm and choice of samples\n",
    "* Limited to a maximum of 20 features\n",
    "\n",
    "### This exercise is to build the best model possible under those constraints. \n",
    "\n",
    "### The task is to predict if a person's income is in excess of 50,000 dollars given certain profile information, and more specifically to generate predicted probabilities of income being above 50,000 dollars for each row in the test set. The output will be a .csv file with a single column of the probability with 'wage' as a header. The file is to be submitted by the end of the day.\n",
    "\n",
    "### This section is the Modeling  portion. \n",
    "\n",
    "Perform the following model and evaluate the results\n",
    "\n",
    "- Logistic Regresion \n",
    "- Knn Regression\n",
    "\n",
    "\n",
    "The data set is the 'train_clean_data.cvs' file.\n",
    " "
   ]
  },
  {
   "cell_type": "code",
   "execution_count": 24,
   "metadata": {},
   "outputs": [],
   "source": [
    "# Import some important stuff\n",
    "import numpy as np\n",
    "import pandas as pd\n",
    "\n",
    "import matplotlib.pyplot as plt\n",
    "import seaborn as sns\n",
    "%matplotlib inline\n",
    "\n",
    "from scipy import stats\n",
    "\n",
    "from sklearn.linear_model import LogisticRegression\n",
    "from sklearn.neighbors import KNeighborsClassifier\n",
    "from sklearn.preprocessing import StandardScaler\n",
    "from sklearn.metrics import confusion_matrix\n",
    "from sklearn.model_selection import GridSearchCV\n",
    "from sklearn.model_selection import train_test_split\n",
    "from sklearn.metrics import f1_score\n",
    "\n"
   ]
  },
  {
   "cell_type": "code",
   "execution_count": 7,
   "metadata": {},
   "outputs": [],
   "source": [
    "# This funtion was created by Magnus Bigelow\n",
    "# Function to calculate and display classification metrics, works for bernoulli y\n",
    "def class_metrics(model, X, y):\n",
    "    # Generate predictions\n",
    "    preds = model.predict(X)\n",
    "    # Get confusion matrix and unravel\n",
    "    tn, fp, fn, tp = confusion_matrix(y,preds).ravel()\n",
    "    # Accuracy\n",
    "    print(f'Accuracy: {round((tp+tn)/len(y),3)}')\n",
    "    # Sensitivity\n",
    "    print(f'Sensitivity: {round(tp/(tp+fn),3)}')\n",
    "    # Specificity\n",
    "    print(f'Specificity: {round(tn/(tn+fp),3)}')\n",
    "    # Precision\n",
    "    print(f'Precision: {round(tp/(tp+fp),3)}')"
   ]
  },
  {
   "cell_type": "code",
   "execution_count": 8,
   "metadata": {},
   "outputs": [],
   "source": [
    "# This funtion was created by Magnus Bigelow\n",
    "# Function to print train and test F1 score\n",
    "def f1(model, X_train, y_train, X_test, y_test):\n",
    "    y_train_p = model.predict(X_train)\n",
    "    y_test_p = model.predict(X_test)\n",
    "    f_train = f1_score(y_train,y_train_p)\n",
    "    f_test = f1_score(y_test,y_test_p)\n",
    "    print(f'Train F1: {round(f_train,3)}')\n",
    "    print(f'Test F1: {round(f_test,3)}')"
   ]
  },
  {
   "cell_type": "code",
   "execution_count": 9,
   "metadata": {},
   "outputs": [],
   "source": [
    "np.random.seed(33) "
   ]
  },
  {
   "cell_type": "code",
   "execution_count": 10,
   "metadata": {},
   "outputs": [],
   "source": [
    "df_data_clean = pd.read_csv('./data/clean_train.csv')"
   ]
  },
  {
   "cell_type": "code",
   "execution_count": 11,
   "metadata": {},
   "outputs": [
    {
     "data": {
      "text/plain": [
       "(32561, 20)"
      ]
     },
     "execution_count": 11,
     "metadata": {},
     "output_type": "execute_result"
    }
   ],
   "source": [
    "df_data_clean.shape"
   ]
  },
  {
   "cell_type": "code",
   "execution_count": 12,
   "metadata": {},
   "outputs": [
    {
     "data": {
      "text/html": [
       "<div>\n",
       "<style scoped>\n",
       "    .dataframe tbody tr th:only-of-type {\n",
       "        vertical-align: middle;\n",
       "    }\n",
       "\n",
       "    .dataframe tbody tr th {\n",
       "        vertical-align: top;\n",
       "    }\n",
       "\n",
       "    .dataframe thead th {\n",
       "        text-align: right;\n",
       "    }\n",
       "</style>\n",
       "<table border=\"1\" class=\"dataframe\">\n",
       "  <thead>\n",
       "    <tr style=\"text-align: right;\">\n",
       "      <th></th>\n",
       "      <th>0</th>\n",
       "      <th>1</th>\n",
       "      <th>2</th>\n",
       "      <th>3</th>\n",
       "      <th>4</th>\n",
       "    </tr>\n",
       "  </thead>\n",
       "  <tbody>\n",
       "    <tr>\n",
       "      <th>age</th>\n",
       "      <td>39.00</td>\n",
       "      <td>50.00</td>\n",
       "      <td>38.00</td>\n",
       "      <td>53.00</td>\n",
       "      <td>28.000</td>\n",
       "    </tr>\n",
       "    <tr>\n",
       "      <th>education-num</th>\n",
       "      <td>13.00</td>\n",
       "      <td>13.00</td>\n",
       "      <td>9.00</td>\n",
       "      <td>7.00</td>\n",
       "      <td>13.000</td>\n",
       "    </tr>\n",
       "    <tr>\n",
       "      <th>sex</th>\n",
       "      <td>1.00</td>\n",
       "      <td>1.00</td>\n",
       "      <td>1.00</td>\n",
       "      <td>1.00</td>\n",
       "      <td>1.000</td>\n",
       "    </tr>\n",
       "    <tr>\n",
       "      <th>capital-gain</th>\n",
       "      <td>2174.00</td>\n",
       "      <td>0.00</td>\n",
       "      <td>0.00</td>\n",
       "      <td>0.00</td>\n",
       "      <td>0.000</td>\n",
       "    </tr>\n",
       "    <tr>\n",
       "      <th>capital-loss</th>\n",
       "      <td>0.00</td>\n",
       "      <td>0.00</td>\n",
       "      <td>0.00</td>\n",
       "      <td>0.00</td>\n",
       "      <td>0.000</td>\n",
       "    </tr>\n",
       "    <tr>\n",
       "      <th>hours-per-week</th>\n",
       "      <td>40.00</td>\n",
       "      <td>13.00</td>\n",
       "      <td>40.00</td>\n",
       "      <td>40.00</td>\n",
       "      <td>40.000</td>\n",
       "    </tr>\n",
       "    <tr>\n",
       "      <th>wage</th>\n",
       "      <td>0.00</td>\n",
       "      <td>0.00</td>\n",
       "      <td>0.00</td>\n",
       "      <td>0.00</td>\n",
       "      <td>0.000</td>\n",
       "    </tr>\n",
       "    <tr>\n",
       "      <th>marital_status_num</th>\n",
       "      <td>0.00</td>\n",
       "      <td>1.00</td>\n",
       "      <td>0.00</td>\n",
       "      <td>1.00</td>\n",
       "      <td>1.000</td>\n",
       "    </tr>\n",
       "    <tr>\n",
       "      <th>occupation_com_House_Services</th>\n",
       "      <td>0.00</td>\n",
       "      <td>0.00</td>\n",
       "      <td>1.00</td>\n",
       "      <td>1.00</td>\n",
       "      <td>0.000</td>\n",
       "    </tr>\n",
       "    <tr>\n",
       "      <th>occupation_com_Other</th>\n",
       "      <td>1.00</td>\n",
       "      <td>0.00</td>\n",
       "      <td>0.00</td>\n",
       "      <td>0.00</td>\n",
       "      <td>0.000</td>\n",
       "    </tr>\n",
       "    <tr>\n",
       "      <th>occupation_com_Professional</th>\n",
       "      <td>0.00</td>\n",
       "      <td>1.00</td>\n",
       "      <td>0.00</td>\n",
       "      <td>0.00</td>\n",
       "      <td>1.000</td>\n",
       "    </tr>\n",
       "    <tr>\n",
       "      <th>occupation_com_Specialty</th>\n",
       "      <td>0.00</td>\n",
       "      <td>0.00</td>\n",
       "      <td>0.00</td>\n",
       "      <td>0.00</td>\n",
       "      <td>0.000</td>\n",
       "    </tr>\n",
       "    <tr>\n",
       "      <th>occupation_com_Tech/sales</th>\n",
       "      <td>0.00</td>\n",
       "      <td>0.00</td>\n",
       "      <td>0.00</td>\n",
       "      <td>0.00</td>\n",
       "      <td>0.000</td>\n",
       "    </tr>\n",
       "    <tr>\n",
       "      <th>workclass_com_ Government</th>\n",
       "      <td>1.00</td>\n",
       "      <td>0.00</td>\n",
       "      <td>0.00</td>\n",
       "      <td>0.00</td>\n",
       "      <td>0.000</td>\n",
       "    </tr>\n",
       "    <tr>\n",
       "      <th>workclass_com_ Other</th>\n",
       "      <td>0.00</td>\n",
       "      <td>0.00</td>\n",
       "      <td>0.00</td>\n",
       "      <td>0.00</td>\n",
       "      <td>0.000</td>\n",
       "    </tr>\n",
       "    <tr>\n",
       "      <th>workclass_com_ Private</th>\n",
       "      <td>0.00</td>\n",
       "      <td>0.00</td>\n",
       "      <td>1.00</td>\n",
       "      <td>1.00</td>\n",
       "      <td>1.000</td>\n",
       "    </tr>\n",
       "    <tr>\n",
       "      <th>workclass_com_ Self-employed</th>\n",
       "      <td>0.00</td>\n",
       "      <td>1.00</td>\n",
       "      <td>0.00</td>\n",
       "      <td>0.00</td>\n",
       "      <td>0.000</td>\n",
       "    </tr>\n",
       "    <tr>\n",
       "      <th>cap_gain_binary</th>\n",
       "      <td>1.00</td>\n",
       "      <td>0.00</td>\n",
       "      <td>0.00</td>\n",
       "      <td>0.00</td>\n",
       "      <td>0.000</td>\n",
       "    </tr>\n",
       "    <tr>\n",
       "      <th>cap_loss_binary</th>\n",
       "      <td>0.00</td>\n",
       "      <td>0.00</td>\n",
       "      <td>0.00</td>\n",
       "      <td>0.00</td>\n",
       "      <td>0.000</td>\n",
       "    </tr>\n",
       "    <tr>\n",
       "      <th>gdp_pc</th>\n",
       "      <td>41524.09</td>\n",
       "      <td>41524.09</td>\n",
       "      <td>41524.09</td>\n",
       "      <td>41524.09</td>\n",
       "      <td>12492.097</td>\n",
       "    </tr>\n",
       "  </tbody>\n",
       "</table>\n",
       "</div>"
      ],
      "text/plain": [
       "                                      0         1         2         3  \\\n",
       "age                               39.00     50.00     38.00     53.00   \n",
       "education-num                     13.00     13.00      9.00      7.00   \n",
       "sex                                1.00      1.00      1.00      1.00   \n",
       "capital-gain                    2174.00      0.00      0.00      0.00   \n",
       "capital-loss                       0.00      0.00      0.00      0.00   \n",
       "hours-per-week                    40.00     13.00     40.00     40.00   \n",
       "wage                               0.00      0.00      0.00      0.00   \n",
       "marital_status_num                 0.00      1.00      0.00      1.00   \n",
       "occupation_com_House_Services      0.00      0.00      1.00      1.00   \n",
       "occupation_com_Other               1.00      0.00      0.00      0.00   \n",
       "occupation_com_Professional        0.00      1.00      0.00      0.00   \n",
       "occupation_com_Specialty           0.00      0.00      0.00      0.00   \n",
       "occupation_com_Tech/sales          0.00      0.00      0.00      0.00   \n",
       "workclass_com_ Government          1.00      0.00      0.00      0.00   \n",
       "workclass_com_ Other               0.00      0.00      0.00      0.00   \n",
       "workclass_com_ Private             0.00      0.00      1.00      1.00   \n",
       "workclass_com_ Self-employed       0.00      1.00      0.00      0.00   \n",
       "cap_gain_binary                    1.00      0.00      0.00      0.00   \n",
       "cap_loss_binary                    0.00      0.00      0.00      0.00   \n",
       "gdp_pc                         41524.09  41524.09  41524.09  41524.09   \n",
       "\n",
       "                                       4  \n",
       "age                               28.000  \n",
       "education-num                     13.000  \n",
       "sex                                1.000  \n",
       "capital-gain                       0.000  \n",
       "capital-loss                       0.000  \n",
       "hours-per-week                    40.000  \n",
       "wage                               0.000  \n",
       "marital_status_num                 1.000  \n",
       "occupation_com_House_Services      0.000  \n",
       "occupation_com_Other               0.000  \n",
       "occupation_com_Professional        1.000  \n",
       "occupation_com_Specialty           0.000  \n",
       "occupation_com_Tech/sales          0.000  \n",
       "workclass_com_ Government          0.000  \n",
       "workclass_com_ Other               0.000  \n",
       "workclass_com_ Private             1.000  \n",
       "workclass_com_ Self-employed       0.000  \n",
       "cap_gain_binary                    0.000  \n",
       "cap_loss_binary                    0.000  \n",
       "gdp_pc                         12492.097  "
      ]
     },
     "execution_count": 12,
     "metadata": {},
     "output_type": "execute_result"
    }
   ],
   "source": [
    "df_data_clean.head().T"
   ]
  },
  {
   "cell_type": "code",
   "execution_count": 13,
   "metadata": {},
   "outputs": [
    {
     "data": {
      "text/plain": [
       "Index(['age', 'education-num', 'sex', 'capital-gain', 'capital-loss',\n",
       "       'hours-per-week', 'wage', 'marital_status_num',\n",
       "       'occupation_com_House_Services', 'occupation_com_Other',\n",
       "       'occupation_com_Professional', 'occupation_com_Specialty',\n",
       "       'occupation_com_Tech/sales', 'workclass_com_ Government',\n",
       "       'workclass_com_ Other', 'workclass_com_ Private',\n",
       "       'workclass_com_ Self-employed', 'cap_gain_binary', 'cap_loss_binary',\n",
       "       'gdp_pc'],\n",
       "      dtype='object')"
      ]
     },
     "execution_count": 13,
     "metadata": {},
     "output_type": "execute_result"
    }
   ],
   "source": [
    "df_data_clean.columns"
   ]
  },
  {
   "cell_type": "code",
   "execution_count": 14,
   "metadata": {},
   "outputs": [],
   "source": [
    "list = ['age', 'education-num', 'sex', 'hours-per-week', 'marital_status_num',\n",
    "       'occupation_com_House_Services',\n",
    "       'occupation_com_Professional', 'occupation_com_Specialty',\n",
    "       'occupation_com_Tech/sales', 'workclass_com_ Government', 'workclass_com_ Private',\n",
    "       'workclass_com_ Self-employed', 'cap_gain_binary', 'cap_loss_binary', 'gdp_pc']"
   ]
  },
  {
   "cell_type": "code",
   "execution_count": 8,
   "metadata": {},
   "outputs": [],
   "source": [
    "# Routine to create a combinations of features combination to try out in a Logistic Regression\n",
    "# set up list data\n",
    "df_data = pd.DataFrame()\n",
    "data = {}\n",
    "\n",
    "ndx = 0\n",
    "ndx_1 = 0\n",
    "\n",
    "\n",
    "while ndx_1 < len(list):\n",
    "#    data = {'name':[list[ndx_1]]}\n",
    "#    df_data = df_data.append(data, ignore_index = True)\n",
    "    ndx += 1\n",
    "    ndx_2 = ndx_1 + 1\n",
    "    while ndx_2 < len(list):\n",
    "        data = {'name':[list[ndx_1],list[ndx_2]]}\n",
    "        df_data = df_data.append(data, ignore_index = True)\n",
    "        ndx_3 = ndx_2 + 1\n",
    "        while ndx_3 < len(list):\n",
    "            data = {'name':[list[ndx_1],list[ndx_2],list[ndx_3]]}\n",
    "            df_data = df_data.append(data, ignore_index = True)\n",
    "            ndx_4 = ndx_3 + 1\n",
    "            while ndx_4 < len(list):\n",
    "                data = {'name':[list[ndx_1],list[ndx_2],list[ndx_3],list[ndx_4]]}\n",
    "                df_data = df_data.append(data, ignore_index = True)\n",
    "                ndx_5 = ndx_4 + 1\n",
    "                while ndx_5 < len(list):\n",
    "                    data = {'name':[list[ndx_1],list[ndx_2],list[ndx_3],list[ndx_4],list[ndx_5]]}\n",
    "                    df_data = df_data.append(data, ignore_index = True)\n",
    "                    ndx_6 = ndx_5 + 1\n",
    "                    while ndx_6 < len(list):\n",
    "                        data = {'name':[list[ndx_1],list[ndx_2],list[ndx_3],list[ndx_4],list[ndx_5],list[ndx_6]]}\n",
    "                        df_data = df_data.append(data, ignore_index = True)\n",
    "                        ndx_7 = ndx_6 + 1\n",
    "                        while ndx_7 < len(list):\n",
    "                            data = {'name':[list[ndx_1],list[ndx_2],list[ndx_3],list[ndx_4],list[ndx_5],list[ndx_6],list[ndx_7]]}\n",
    "                            df_data = df_data.append(data, ignore_index = True)\n",
    "                            ndx_8 = ndx_7 + 1\n",
    "                            while ndx_8 < len(list):\n",
    "                                data = {'name':[list[ndx_1],list[ndx_2],list[ndx_3],list[ndx_4],list[ndx_5],list[ndx_6],list[ndx_7],list[ndx_8]]}\n",
    "                                df_data = df_data.append(data, ignore_index = True)\n",
    "                                ndx_9 = ndx_8 + 1\n",
    "                                while ndx_9 < len(list):\n",
    "                                    data = {'name':[list[ndx_1],list[ndx_2],list[ndx_3],list[ndx_4],list[ndx_5],list[ndx_6],list[ndx_7],list[ndx_8],list[ndx_9]]}\n",
    "                                    df_data = df_data.append(data, ignore_index = True)\n",
    "                                    ndx_10 = ndx_9 + 1\n",
    "                                    while ndx_10 < len(list):\n",
    "                                        data = {'name':[list[ndx_1],list[ndx_2],list[ndx_3],list[ndx_4],list[ndx_5],list[ndx_6],list[ndx_7],list[ndx_8],list[ndx_9],list[ndx_10]]}\n",
    "                                        df_data = df_data.append(data, ignore_index = True)\n",
    "                                        ndx_11 = ndx_10 + 1\n",
    "                                        while ndx_11 < len(list):\n",
    "                                            data = {'name':[list[ndx_1],list[ndx_2],list[ndx_3],list[ndx_4],list[ndx_5],list[ndx_6],list[ndx_7],list[ndx_8],list[ndx_9],list[ndx_10],list[ndx_11]]}\n",
    "                                            df_data = df_data.append(data, ignore_index = True)\n",
    "                                            ndx_12 = ndx_11 + 1\n",
    "                                            while ndx_12 < len(list):\n",
    "                                                data = {'name':[list[ndx_1],list[ndx_2],list[ndx_3],list[ndx_4],list[ndx_5],list[ndx_6],list[ndx_7],list[ndx_8],list[ndx_9],list[ndx_10]]}\n",
    "                                                df_data = df_data.append(data, ignore_index = True)\n",
    "                                                ndx_13 = ndx_12 + 1\n",
    "                                                while ndx_13 < len(list):\n",
    "                                                    data = {'name':[list[ndx_1],list[ndx_2],list[ndx_3],list[ndx_4],list[ndx_5],list[ndx_6],list[ndx_7],list[ndx_8],list[ndx_9],list[ndx_10],list[ndx_11]]}\n",
    "                                                    df_data = df_data.append(data, ignore_index = True)\n",
    "                                                    ndx_14 = ndx_13 + 1\n",
    "                                                    while ndx_14 < len(list):\n",
    "                                                        data = {'name':[list[ndx_1],list[ndx_2],list[ndx_3],list[ndx_4],list[ndx_5],list[ndx_6],list[ndx_7],list[ndx_8],list[ndx_9],list[ndx_10]]}\n",
    "                                                        df_data = df_data.append(data, ignore_index = True)\n",
    "                                                        ndx_15 = ndx_14 + 1\n",
    "                                                        while ndx_15 < len(list):\n",
    "                                                            data = {'name':[list[ndx_1],list[ndx_2],list[ndx_3],list[ndx_4],list[ndx_5],list[ndx_6],list[ndx_7],list[ndx_8],list[ndx_9],list[ndx_10],list[ndx_11]]}\n",
    "                                                            df_data = df_data.append(data, ignore_index = True)\n",
    "                                                            ndx_15 += 1\n",
    "                                                        ndx_14 += 1\n",
    "                                                    ndx_13 += 1      \n",
    "                                                ndx_12 += 1                \n",
    "                                            ndx_11 += 1\n",
    "                                        ndx_10 += 1\n",
    "                                    ndx_9 += 1      \n",
    "                                ndx_8 += 1                \n",
    "                            ndx_7 += 1\n",
    "                        ndx_6 += 1\n",
    "                    ndx_5 += 1      \n",
    "                ndx_4 += 1                \n",
    "            ndx_3 += 1\n",
    "        ndx_2 += 1          \n",
    "    ndx_1 += 1"
   ]
  },
  {
   "cell_type": "code",
   "execution_count": 9,
   "metadata": {},
   "outputs": [],
   "source": [
    "df_results_LogReg = pd.DataFrame(columns=['train_score', 'test_score', 'diff', 'age', 'education-num', 'sex', 'hours-per-week', 'marital_status_num',\n",
    "       'occupation_com_House_Services',\n",
    "       'occupation_com_Professional', 'occupation_com_Specialty',\n",
    "       'occupation_com_Tech/sales', 'workclass_com_ Government', 'workclass_com_ Private',\n",
    "       'workclass_com_ Self-employed', 'cap_gain_binary', 'cap_loss_binary', 'gdp_pc'])"
   ]
  },
  {
   "cell_type": "code",
   "execution_count": 38,
   "metadata": {},
   "outputs": [],
   "source": [
    "# This routine will iterate through the list of features combination to get information on \n",
    "#     the training and testing score along with the coeficient with each feature used.\n",
    "ndx = 0\n",
    "y = df_data_clean['wage'] \n",
    "logreg = LogisticRegression(solver='liblinear')\n",
    "\n",
    "while ndx < len(df_data):\n",
    "    X = df_data_clean[df_data['name'][ndx]] \n",
    "    X_train, X_test, y_train, y_test = train_test_split(X, y, test_size=.33, random_state=42)\n",
    "    logreg.fit(X_train, y_train)\n",
    "    \n",
    "    temp_dict = {}\n",
    "\n",
    "    temp_dict = {'train_score': round(logreg.score(X_train, y_train), 4),  \n",
    "                 'test_score': round(logreg.score(X_test, y_test), 4),\n",
    "                 'diff': round(logreg.score(X_train, y_train) - logreg.score(X_test, y_test), 4)}\n",
    "\n",
    "    ndx_x = 0\n",
    "    while ndx_x < len(X.columns):\n",
    "        temp_dict.update({X.columns.values[ndx_x] : np.round(logreg.coef_[0][ndx_x], 4)})\n",
    "        ndx_x += 1\n",
    "\n",
    "    df_results_LogReg = df_results_LogReg.append(temp_dict, ignore_index=True)\n",
    "    \n",
    "    ndx += 1 \n",
    "\n"
   ]
  },
  {
   "cell_type": "code",
   "execution_count": 45,
   "metadata": {
    "scrolled": true
   },
   "outputs": [
    {
     "data": {
      "text/html": [
       "<div>\n",
       "<style scoped>\n",
       "    .dataframe tbody tr th:only-of-type {\n",
       "        vertical-align: middle;\n",
       "    }\n",
       "\n",
       "    .dataframe tbody tr th {\n",
       "        vertical-align: top;\n",
       "    }\n",
       "\n",
       "    .dataframe thead th {\n",
       "        text-align: right;\n",
       "    }\n",
       "</style>\n",
       "<table border=\"1\" class=\"dataframe\">\n",
       "  <thead>\n",
       "    <tr style=\"text-align: right;\">\n",
       "      <th></th>\n",
       "      <th>train_score</th>\n",
       "      <th>test_score</th>\n",
       "      <th>diff</th>\n",
       "      <th>age</th>\n",
       "      <th>education-num</th>\n",
       "      <th>sex</th>\n",
       "      <th>hours-per-week</th>\n",
       "      <th>marital_status_num</th>\n",
       "      <th>occupation_com_House_Services</th>\n",
       "      <th>occupation_com_Professional</th>\n",
       "      <th>occupation_com_Specialty</th>\n",
       "      <th>occupation_com_Tech/sales</th>\n",
       "      <th>workclass_com_ Government</th>\n",
       "      <th>workclass_com_ Private</th>\n",
       "      <th>workclass_com_ Self-employed</th>\n",
       "      <th>cap_gain_binary</th>\n",
       "      <th>cap_loss_binary</th>\n",
       "      <th>gdp_pc</th>\n",
       "    </tr>\n",
       "  </thead>\n",
       "  <tbody>\n",
       "    <tr>\n",
       "      <th>885</th>\n",
       "      <td>0.8389</td>\n",
       "      <td>0.8418</td>\n",
       "      <td>-0.0029</td>\n",
       "      <td>0.0287</td>\n",
       "      <td>0.2758</td>\n",
       "      <td>-4.4562</td>\n",
       "      <td>0.0303</td>\n",
       "      <td>2.3694</td>\n",
       "      <td>NaN</td>\n",
       "      <td>0.9178</td>\n",
       "      <td>NaN</td>\n",
       "      <td>0.6414</td>\n",
       "      <td>0.2719</td>\n",
       "      <td>0.3346</td>\n",
       "      <td>NaN</td>\n",
       "      <td>1.6280</td>\n",
       "      <td>1.0022</td>\n",
       "      <td>NaN</td>\n",
       "    </tr>\n",
       "    <tr>\n",
       "      <th>4469</th>\n",
       "      <td>0.8389</td>\n",
       "      <td>0.8416</td>\n",
       "      <td>-0.0027</td>\n",
       "      <td>0.0278</td>\n",
       "      <td>0.2704</td>\n",
       "      <td>NaN</td>\n",
       "      <td>0.0297</td>\n",
       "      <td>2.3695</td>\n",
       "      <td>-0.5775</td>\n",
       "      <td>0.9011</td>\n",
       "      <td>NaN</td>\n",
       "      <td>0.6184</td>\n",
       "      <td>0.2779</td>\n",
       "      <td>0.3376</td>\n",
       "      <td>NaN</td>\n",
       "      <td>1.6305</td>\n",
       "      <td>1.0055</td>\n",
       "      <td>NaN</td>\n",
       "    </tr>\n",
       "    <tr>\n",
       "      <th>4877</th>\n",
       "      <td>0.8388</td>\n",
       "      <td>0.8414</td>\n",
       "      <td>-0.0026</td>\n",
       "      <td>0.0277</td>\n",
       "      <td>0.2738</td>\n",
       "      <td>NaN</td>\n",
       "      <td>0.0292</td>\n",
       "      <td>2.3498</td>\n",
       "      <td>NaN</td>\n",
       "      <td>1.0511</td>\n",
       "      <td>0.1847</td>\n",
       "      <td>0.7726</td>\n",
       "      <td>NaN</td>\n",
       "      <td>0.0924</td>\n",
       "      <td>-0.2158</td>\n",
       "      <td>1.6267</td>\n",
       "      <td>1.0034</td>\n",
       "      <td>NaN</td>\n",
       "    </tr>\n",
       "    <tr>\n",
       "      <th>924</th>\n",
       "      <td>0.8388</td>\n",
       "      <td>0.8408</td>\n",
       "      <td>-0.0020</td>\n",
       "      <td>0.0275</td>\n",
       "      <td>0.2733</td>\n",
       "      <td>-4.2884</td>\n",
       "      <td>0.0308</td>\n",
       "      <td>2.3797</td>\n",
       "      <td>NaN</td>\n",
       "      <td>0.9421</td>\n",
       "      <td>NaN</td>\n",
       "      <td>0.6703</td>\n",
       "      <td>NaN</td>\n",
       "      <td>NaN</td>\n",
       "      <td>-0.2733</td>\n",
       "      <td>1.6331</td>\n",
       "      <td>1.0098</td>\n",
       "      <td>NaN</td>\n",
       "    </tr>\n",
       "    <tr>\n",
       "      <th>185</th>\n",
       "      <td>0.8388</td>\n",
       "      <td>0.8406</td>\n",
       "      <td>-0.0018</td>\n",
       "      <td>0.0273</td>\n",
       "      <td>0.2746</td>\n",
       "      <td>-4.2496</td>\n",
       "      <td>0.0310</td>\n",
       "      <td>2.3786</td>\n",
       "      <td>-0.6864</td>\n",
       "      <td>0.9059</td>\n",
       "      <td>NaN</td>\n",
       "      <td>0.6373</td>\n",
       "      <td>NaN</td>\n",
       "      <td>NaN</td>\n",
       "      <td>-0.2602</td>\n",
       "      <td>1.6280</td>\n",
       "      <td>1.0418</td>\n",
       "      <td>NaN</td>\n",
       "    </tr>\n",
       "    <tr>\n",
       "      <th>...</th>\n",
       "      <td>...</td>\n",
       "      <td>...</td>\n",
       "      <td>...</td>\n",
       "      <td>...</td>\n",
       "      <td>...</td>\n",
       "      <td>...</td>\n",
       "      <td>...</td>\n",
       "      <td>...</td>\n",
       "      <td>...</td>\n",
       "      <td>...</td>\n",
       "      <td>...</td>\n",
       "      <td>...</td>\n",
       "      <td>...</td>\n",
       "      <td>...</td>\n",
       "      <td>...</td>\n",
       "      <td>...</td>\n",
       "      <td>...</td>\n",
       "      <td>...</td>\n",
       "    </tr>\n",
       "    <tr>\n",
       "      <th>4981</th>\n",
       "      <td>0.7124</td>\n",
       "      <td>0.7245</td>\n",
       "      <td>-0.0121</td>\n",
       "      <td>0.0107</td>\n",
       "      <td>0.0039</td>\n",
       "      <td>NaN</td>\n",
       "      <td>0.0071</td>\n",
       "      <td>0.0019</td>\n",
       "      <td>NaN</td>\n",
       "      <td>0.0011</td>\n",
       "      <td>NaN</td>\n",
       "      <td>0.0001</td>\n",
       "      <td>0.0002</td>\n",
       "      <td>-0.0007</td>\n",
       "      <td>NaN</td>\n",
       "      <td>0.0006</td>\n",
       "      <td>0.0003</td>\n",
       "      <td>-0.0</td>\n",
       "    </tr>\n",
       "    <tr>\n",
       "      <th>4982</th>\n",
       "      <td>0.7124</td>\n",
       "      <td>0.7245</td>\n",
       "      <td>-0.0121</td>\n",
       "      <td>0.0107</td>\n",
       "      <td>0.0039</td>\n",
       "      <td>NaN</td>\n",
       "      <td>0.0071</td>\n",
       "      <td>0.0019</td>\n",
       "      <td>NaN</td>\n",
       "      <td>0.0011</td>\n",
       "      <td>NaN</td>\n",
       "      <td>0.0001</td>\n",
       "      <td>0.0002</td>\n",
       "      <td>-0.0007</td>\n",
       "      <td>NaN</td>\n",
       "      <td>0.0007</td>\n",
       "      <td>NaN</td>\n",
       "      <td>-0.0</td>\n",
       "    </tr>\n",
       "    <tr>\n",
       "      <th>831</th>\n",
       "      <td>0.7124</td>\n",
       "      <td>0.7245</td>\n",
       "      <td>-0.0121</td>\n",
       "      <td>0.0107</td>\n",
       "      <td>0.0039</td>\n",
       "      <td>-0.0005</td>\n",
       "      <td>0.0071</td>\n",
       "      <td>0.0019</td>\n",
       "      <td>NaN</td>\n",
       "      <td>0.0011</td>\n",
       "      <td>-0.0005</td>\n",
       "      <td>NaN</td>\n",
       "      <td>0.0002</td>\n",
       "      <td>NaN</td>\n",
       "      <td>0.0003</td>\n",
       "      <td>0.0007</td>\n",
       "      <td>NaN</td>\n",
       "      <td>-0.0</td>\n",
       "    </tr>\n",
       "    <tr>\n",
       "      <th>981</th>\n",
       "      <td>0.7124</td>\n",
       "      <td>0.7245</td>\n",
       "      <td>-0.0121</td>\n",
       "      <td>0.0107</td>\n",
       "      <td>0.0039</td>\n",
       "      <td>-0.0005</td>\n",
       "      <td>0.0071</td>\n",
       "      <td>0.0019</td>\n",
       "      <td>NaN</td>\n",
       "      <td>0.0011</td>\n",
       "      <td>NaN</td>\n",
       "      <td>NaN</td>\n",
       "      <td>NaN</td>\n",
       "      <td>-0.0007</td>\n",
       "      <td>NaN</td>\n",
       "      <td>0.0006</td>\n",
       "      <td>NaN</td>\n",
       "      <td>-0.0</td>\n",
       "    </tr>\n",
       "    <tr>\n",
       "      <th>862</th>\n",
       "      <td>0.7124</td>\n",
       "      <td>0.7245</td>\n",
       "      <td>-0.0121</td>\n",
       "      <td>0.0107</td>\n",
       "      <td>0.0039</td>\n",
       "      <td>-0.0005</td>\n",
       "      <td>0.0071</td>\n",
       "      <td>0.0019</td>\n",
       "      <td>NaN</td>\n",
       "      <td>0.0011</td>\n",
       "      <td>-0.0005</td>\n",
       "      <td>NaN</td>\n",
       "      <td>NaN</td>\n",
       "      <td>NaN</td>\n",
       "      <td>0.0003</td>\n",
       "      <td>0.0007</td>\n",
       "      <td>NaN</td>\n",
       "      <td>-0.0</td>\n",
       "    </tr>\n",
       "  </tbody>\n",
       "</table>\n",
       "<p>32980 rows × 18 columns</p>\n",
       "</div>"
      ],
      "text/plain": [
       "      train_score  test_score    diff     age  education-num     sex  \\\n",
       "885        0.8389      0.8418 -0.0029  0.0287         0.2758 -4.4562   \n",
       "4469       0.8389      0.8416 -0.0027  0.0278         0.2704     NaN   \n",
       "4877       0.8388      0.8414 -0.0026  0.0277         0.2738     NaN   \n",
       "924        0.8388      0.8408 -0.0020  0.0275         0.2733 -4.2884   \n",
       "185        0.8388      0.8406 -0.0018  0.0273         0.2746 -4.2496   \n",
       "...           ...         ...     ...     ...            ...     ...   \n",
       "4981       0.7124      0.7245 -0.0121  0.0107         0.0039     NaN   \n",
       "4982       0.7124      0.7245 -0.0121  0.0107         0.0039     NaN   \n",
       "831        0.7124      0.7245 -0.0121  0.0107         0.0039 -0.0005   \n",
       "981        0.7124      0.7245 -0.0121  0.0107         0.0039 -0.0005   \n",
       "862        0.7124      0.7245 -0.0121  0.0107         0.0039 -0.0005   \n",
       "\n",
       "      hours-per-week  marital_status_num  occupation_com_House_Services  \\\n",
       "885           0.0303              2.3694                            NaN   \n",
       "4469          0.0297              2.3695                        -0.5775   \n",
       "4877          0.0292              2.3498                            NaN   \n",
       "924           0.0308              2.3797                            NaN   \n",
       "185           0.0310              2.3786                        -0.6864   \n",
       "...              ...                 ...                            ...   \n",
       "4981          0.0071              0.0019                            NaN   \n",
       "4982          0.0071              0.0019                            NaN   \n",
       "831           0.0071              0.0019                            NaN   \n",
       "981           0.0071              0.0019                            NaN   \n",
       "862           0.0071              0.0019                            NaN   \n",
       "\n",
       "      occupation_com_Professional  occupation_com_Specialty  \\\n",
       "885                        0.9178                       NaN   \n",
       "4469                       0.9011                       NaN   \n",
       "4877                       1.0511                    0.1847   \n",
       "924                        0.9421                       NaN   \n",
       "185                        0.9059                       NaN   \n",
       "...                           ...                       ...   \n",
       "4981                       0.0011                       NaN   \n",
       "4982                       0.0011                       NaN   \n",
       "831                        0.0011                   -0.0005   \n",
       "981                        0.0011                       NaN   \n",
       "862                        0.0011                   -0.0005   \n",
       "\n",
       "      occupation_com_Tech/sales  workclass_com_ Government  \\\n",
       "885                      0.6414                     0.2719   \n",
       "4469                     0.6184                     0.2779   \n",
       "4877                     0.7726                        NaN   \n",
       "924                      0.6703                        NaN   \n",
       "185                      0.6373                        NaN   \n",
       "...                         ...                        ...   \n",
       "4981                     0.0001                     0.0002   \n",
       "4982                     0.0001                     0.0002   \n",
       "831                         NaN                     0.0002   \n",
       "981                         NaN                        NaN   \n",
       "862                         NaN                        NaN   \n",
       "\n",
       "      workclass_com_ Private  workclass_com_ Self-employed  cap_gain_binary  \\\n",
       "885                   0.3346                           NaN           1.6280   \n",
       "4469                  0.3376                           NaN           1.6305   \n",
       "4877                  0.0924                       -0.2158           1.6267   \n",
       "924                      NaN                       -0.2733           1.6331   \n",
       "185                      NaN                       -0.2602           1.6280   \n",
       "...                      ...                           ...              ...   \n",
       "4981                 -0.0007                           NaN           0.0006   \n",
       "4982                 -0.0007                           NaN           0.0007   \n",
       "831                      NaN                        0.0003           0.0007   \n",
       "981                  -0.0007                           NaN           0.0006   \n",
       "862                      NaN                        0.0003           0.0007   \n",
       "\n",
       "      cap_loss_binary  gdp_pc  \n",
       "885            1.0022     NaN  \n",
       "4469           1.0055     NaN  \n",
       "4877           1.0034     NaN  \n",
       "924            1.0098     NaN  \n",
       "185            1.0418     NaN  \n",
       "...               ...     ...  \n",
       "4981           0.0003    -0.0  \n",
       "4982              NaN    -0.0  \n",
       "831               NaN    -0.0  \n",
       "981               NaN    -0.0  \n",
       "862               NaN    -0.0  \n",
       "\n",
       "[32980 rows x 18 columns]"
      ]
     },
     "execution_count": 45,
     "metadata": {},
     "output_type": "execute_result"
    }
   ],
   "source": [
    "df_results_LogReg.sort_values(by='train_score', ascending = False).head()"
   ]
  },
  {
   "cell_type": "markdown",
   "metadata": {},
   "source": [
    "From the results, the best training score was 0.8389 with a testing score of 0.8418\n",
    "\n",
    "The features used was age, education-num, sex, marital_tatus_num, occupation_com_Professional, occupation_com_tech/sales, workclass_com_Government, workclass_Private, cap_gain_binary, and cap_loss_binary\n",
    "\n",
    "10 features found."
   ]
  },
  {
   "cell_type": "markdown",
   "metadata": {},
   "source": [
    "# Knn model"
   ]
  },
  {
   "cell_type": "code",
   "execution_count": 15,
   "metadata": {},
   "outputs": [],
   "source": [
    "X = df_data_clean[['age', 'education-num', 'sex',\n",
    "       'hours-per-week', 'marital_status_num',\n",
    "       'occupation_com_House_Services',\n",
    "       'occupation_com_Professional', 'occupation_com_Specialty',\n",
    "       'occupation_com_Tech/sales', 'workclass_com_ Government', 'workclass_com_ Private',\n",
    "       'workclass_com_ Self-employed', 'cap_gain_binary', 'cap_loss_binary',\n",
    "       'gdp_pc']]\n",
    "\n",
    "y = df_data_clean['wage'] "
   ]
  },
  {
   "cell_type": "code",
   "execution_count": 16,
   "metadata": {},
   "outputs": [],
   "source": [
    "X_train, X_test, y_train, y_test = train_test_split(X, y, test_size=.33, random_state=33)"
   ]
  },
  {
   "cell_type": "code",
   "execution_count": 17,
   "metadata": {},
   "outputs": [],
   "source": [
    "# will need to scale the data\n",
    "ss = StandardScaler()\n",
    "X_train_sc = ss.fit_transform(X_train)\n",
    "X_test_sc = ss.transform(X_test)"
   ]
  },
  {
   "cell_type": "code",
   "execution_count": 18,
   "metadata": {},
   "outputs": [],
   "source": [
    "# Instantiate our model (use default parameters).\n",
    "knn = KNeighborsClassifier()"
   ]
  },
  {
   "cell_type": "code",
   "execution_count": 19,
   "metadata": {},
   "outputs": [
    {
     "data": {
      "text/plain": [
       "KNeighborsClassifier(algorithm='auto', leaf_size=30, metric='minkowski',\n",
       "                     metric_params=None, n_jobs=None, n_neighbors=5, p=2,\n",
       "                     weights='uniform')"
      ]
     },
     "execution_count": 19,
     "metadata": {},
     "output_type": "execute_result"
    }
   ],
   "source": [
    "# Fit our model to our data.\n",
    "knn.fit(X_train_sc, y_train)"
   ]
  },
  {
   "cell_type": "markdown",
   "metadata": {},
   "source": [
    "KNeighborsClassifier(algorithm='auto', leaf_size=30, metric='minkowski',\n",
    "                     metric_params=None, n_jobs=None, n_neighbors=5, p=2,\n",
    "                     weights='uniform')"
   ]
  },
  {
   "cell_type": "code",
   "execution_count": 20,
   "metadata": {},
   "outputs": [
    {
     "data": {
      "text/plain": [
       "0.8714187485674995"
      ]
     },
     "execution_count": 20,
     "metadata": {},
     "output_type": "execute_result"
    }
   ],
   "source": [
    "# Get the training score\n",
    "knn.score(X_train_sc, y_train)"
   ]
  },
  {
   "cell_type": "code",
   "execution_count": 21,
   "metadata": {},
   "outputs": [
    {
     "data": {
      "text/plain": [
       "0.8203052298529685"
      ]
     },
     "execution_count": 21,
     "metadata": {},
     "output_type": "execute_result"
    }
   ],
   "source": [
    "# Get the testing score\n",
    "knn.score(X_test_sc, y_test)"
   ]
  },
  {
   "cell_type": "code",
   "execution_count": 25,
   "metadata": {},
   "outputs": [
    {
     "name": "stdout",
     "output_type": "stream",
     "text": [
      "Train F1: 0.72\n",
      "Test F1: 0.607\n"
     ]
    }
   ],
   "source": [
    "f1(knn, X_train_sc, y_train, X_test_sc, y_test)"
   ]
  },
  {
   "cell_type": "code",
   "execution_count": 26,
   "metadata": {},
   "outputs": [
    {
     "name": "stdout",
     "output_type": "stream",
     "text": [
      "Accuracy: 0.82\n",
      "Sensitivity: 0.575\n",
      "Specificity: 0.898\n",
      "Precision: 0.643\n"
     ]
    }
   ],
   "source": [
    "class_metrics(knn, X_test_sc, y_test)"
   ]
  },
  {
   "cell_type": "markdown",
   "metadata": {},
   "source": [
    "From our analysis from all the modeling, we determined that the best model to use was the Knn because it gave us a similiar score, with the best specificity. We were looking for a good balance model.\n",
    "\n",
    "The next section is to run the Knn through a few hyperparameters, to get the best values.\n",
    "\n"
   ]
  },
  {
   "cell_type": "markdown",
   "metadata": {},
   "source": [
    "# Knn Through GridSearch\n",
    "\n"
   ]
  },
  {
   "cell_type": "code",
   "execution_count": 38,
   "metadata": {},
   "outputs": [],
   "source": [
    "knn_params = {'n_neighbors' : [3, 5, 15, 25],\n",
    "              'p':[1,2,3]}\n"
   ]
  },
  {
   "cell_type": "code",
   "execution_count": 39,
   "metadata": {},
   "outputs": [],
   "source": [
    "knn_gridsearch = GridSearchCV(KNeighborsClassifier(), \n",
    "                              knn_params, \n",
    "                              cv=5, \n",
    "                              verbose=1)"
   ]
  },
  {
   "cell_type": "code",
   "execution_count": 40,
   "metadata": {},
   "outputs": [
    {
     "name": "stdout",
     "output_type": "stream",
     "text": [
      "Fitting 5 folds for each of 12 candidates, totalling 60 fits\n"
     ]
    },
    {
     "name": "stderr",
     "output_type": "stream",
     "text": [
      "[Parallel(n_jobs=1)]: Using backend SequentialBackend with 1 concurrent workers.\n",
      "[Parallel(n_jobs=1)]: Done  60 out of  60 | elapsed:  1.8min finished\n"
     ]
    }
   ],
   "source": [
    "knn_gridsearch.fit(X_train_sc, y_train);"
   ]
  },
  {
   "cell_type": "code",
   "execution_count": 41,
   "metadata": {},
   "outputs": [
    {
     "data": {
      "text/plain": [
       "{'n_neighbors': 25, 'p': 1}"
      ]
     },
     "execution_count": 41,
     "metadata": {},
     "output_type": "execute_result"
    }
   ],
   "source": [
    "knn_gridsearch.best_params_"
   ]
  },
  {
   "cell_type": "code",
   "execution_count": 42,
   "metadata": {},
   "outputs": [
    {
     "name": "stdout",
     "output_type": "stream",
     "text": [
      "Train F1: 0.663\n",
      "Test F1: 0.635\n"
     ]
    }
   ],
   "source": [
    "f1(knn_gridsearch, X_train_sc, y_train, X_test_sc, y_test)"
   ]
  },
  {
   "cell_type": "code",
   "execution_count": 43,
   "metadata": {},
   "outputs": [
    {
     "name": "stdout",
     "output_type": "stream",
     "text": [
      "Accuracy: 0.837\n",
      "Sensitivity: 0.589\n",
      "Specificity: 0.916\n",
      "Precision: 0.69\n"
     ]
    }
   ],
   "source": [
    "class_metrics(knn_gridsearch, X_test_sc, y_test)"
   ]
  },
  {
   "cell_type": "markdown",
   "metadata": {},
   "source": [
    "### We will set the n_neighbor to 25 and p to 1  when setting up our testing data\n",
    "\n",
    "code will be in the test_workbook"
   ]
  }
 ],
 "metadata": {
  "kernelspec": {
   "display_name": "Python 3",
   "language": "python",
   "name": "python3"
  },
  "language_info": {
   "codemirror_mode": {
    "name": "ipython",
    "version": 3
   },
   "file_extension": ".py",
   "mimetype": "text/x-python",
   "name": "python",
   "nbconvert_exporter": "python",
   "pygments_lexer": "ipython3",
   "version": "3.7.4"
  }
 },
 "nbformat": 4,
 "nbformat_minor": 2
}
