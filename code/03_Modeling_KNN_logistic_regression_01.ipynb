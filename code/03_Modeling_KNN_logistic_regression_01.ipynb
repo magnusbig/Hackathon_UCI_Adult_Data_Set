{
 "cells": [
  {
   "cell_type": "markdown",
   "metadata": {},
   "source": [
    "# Project 4 - Hackathon (Predicting Income under Team Features Constraint)\n",
    "\n",
    "* Choose algorithm and choice of samples\n",
    "* Limited to a maximum of 20 features\n",
    "\n",
    "### This exercise is to build the best model possible under those constraints. \n",
    "\n",
    "### The task is to predict if a person's income is in excess of 50,000 dollars given certain profile information, and more specifically to generate predicted probabilities of income being above 50,000 dollars for each row in the test set. The output will be a .csv file with a single column of the probability with 'wage' as a header. The file is to be submitted by the end of the day.\n",
    "\n",
    "### This section is the Modeling  portion. \n",
    "\n",
    "Perform the following model and evaluate the results\n",
    "\n",
    "- Logistic Regresion \n",
    "- Knn Regression\n",
    "\n",
    "\n",
    "The data set is the 'train_clean_data.cvs' file.\n",
    " "
   ]
  },
  {
   "cell_type": "code",
   "execution_count": 1,
   "metadata": {},
   "outputs": [],
   "source": [
    "# Import some important stuff\n",
    "import numpy as np\n",
    "import pandas as pd\n",
    "\n",
    "import matplotlib.pyplot as plt\n",
    "import seaborn as sns\n",
    "%matplotlib inline\n",
    "\n",
    "from scipy import stats\n",
    "\n",
    "from sklearn.linear_model import LogisticRegression\n",
    "from sklearn.neighbors import KNeighborsClassifier\n",
    "from sklearn.preprocessing import StandardScaler\n",
    "from sklearn.metrics import confusion_matrix\n",
    "from sklearn.model_selection import GridSearchCV\n",
    "from sklearn.model_selection import train_test_split\n",
    "from sklearn.metrics import f1_score\n",
    "\n"
   ]
  },
  {
   "cell_type": "code",
   "execution_count": 2,
   "metadata": {},
   "outputs": [],
   "source": [
    "# This funtion was created by Magnus Bigelow\n",
    "# Function to calculate and display classification metrics, works for bernoulli y\n",
    "def class_metrics(model, X, y):\n",
    "    # Generate predictions\n",
    "    preds = model.predict(X)\n",
    "    # Get confusion matrix and unravel\n",
    "    tn, fp, fn, tp = confusion_matrix(y,preds).ravel()\n",
    "    # Accuracy\n",
    "    print(f'Accuracy: {round((tp+tn)/len(y),3)}')\n",
    "    # Sensitivity\n",
    "    print(f'Sensitivity: {round(tp/(tp+fn),3)}')\n",
    "    # Specificity\n",
    "    print(f'Specificity: {round(tn/(tn+fp),3)}')\n",
    "    # Precision\n",
    "    print(f'Precision: {round(tp/(tp+fp),3)}')"
   ]
  },
  {
   "cell_type": "code",
   "execution_count": 3,
   "metadata": {},
   "outputs": [],
   "source": [
    "# This funtion was created by Magnus Bigelow\n",
    "# Function to print train and test F1 score\n",
    "def f1(model, X_train, y_train, X_test, y_test):\n",
    "    y_train_p = model.predict(X_train)\n",
    "    y_test_p = model.predict(X_test)\n",
    "    f_train = f1_score(y_train,y_train_p)\n",
    "    f_test = f1_score(y_test,y_test_p)\n",
    "    print(f'Train F1: {round(f_train,3)}')\n",
    "    print(f'Test F1: {round(f_test,3)}')"
   ]
  },
  {
   "cell_type": "code",
   "execution_count": 4,
   "metadata": {},
   "outputs": [],
   "source": [
    "np.random.seed(33) "
   ]
  },
  {
   "cell_type": "code",
   "execution_count": 5,
   "metadata": {},
   "outputs": [],
   "source": [
    "df_data_clean = pd.read_csv('./data/clean_train.csv')"
   ]
  },
  {
   "cell_type": "code",
   "execution_count": 6,
   "metadata": {},
   "outputs": [
    {
     "data": {
      "text/plain": [
       "(32561, 20)"
      ]
     },
     "execution_count": 6,
     "metadata": {},
     "output_type": "execute_result"
    }
   ],
   "source": [
    "df_data_clean.shape"
   ]
  },
  {
   "cell_type": "code",
   "execution_count": 7,
   "metadata": {},
   "outputs": [
    {
     "data": {
      "text/html": [
       "<div>\n",
       "<style scoped>\n",
       "    .dataframe tbody tr th:only-of-type {\n",
       "        vertical-align: middle;\n",
       "    }\n",
       "\n",
       "    .dataframe tbody tr th {\n",
       "        vertical-align: top;\n",
       "    }\n",
       "\n",
       "    .dataframe thead th {\n",
       "        text-align: right;\n",
       "    }\n",
       "</style>\n",
       "<table border=\"1\" class=\"dataframe\">\n",
       "  <thead>\n",
       "    <tr style=\"text-align: right;\">\n",
       "      <th></th>\n",
       "      <th>0</th>\n",
       "      <th>1</th>\n",
       "      <th>2</th>\n",
       "      <th>3</th>\n",
       "      <th>4</th>\n",
       "    </tr>\n",
       "  </thead>\n",
       "  <tbody>\n",
       "    <tr>\n",
       "      <th>age</th>\n",
       "      <td>39.00</td>\n",
       "      <td>50.00</td>\n",
       "      <td>38.00</td>\n",
       "      <td>53.00</td>\n",
       "      <td>28.000</td>\n",
       "    </tr>\n",
       "    <tr>\n",
       "      <th>education-num</th>\n",
       "      <td>13.00</td>\n",
       "      <td>13.00</td>\n",
       "      <td>9.00</td>\n",
       "      <td>7.00</td>\n",
       "      <td>13.000</td>\n",
       "    </tr>\n",
       "    <tr>\n",
       "      <th>sex</th>\n",
       "      <td>1.00</td>\n",
       "      <td>1.00</td>\n",
       "      <td>1.00</td>\n",
       "      <td>1.00</td>\n",
       "      <td>1.000</td>\n",
       "    </tr>\n",
       "    <tr>\n",
       "      <th>capital-gain</th>\n",
       "      <td>2174.00</td>\n",
       "      <td>0.00</td>\n",
       "      <td>0.00</td>\n",
       "      <td>0.00</td>\n",
       "      <td>0.000</td>\n",
       "    </tr>\n",
       "    <tr>\n",
       "      <th>capital-loss</th>\n",
       "      <td>0.00</td>\n",
       "      <td>0.00</td>\n",
       "      <td>0.00</td>\n",
       "      <td>0.00</td>\n",
       "      <td>0.000</td>\n",
       "    </tr>\n",
       "    <tr>\n",
       "      <th>hours-per-week</th>\n",
       "      <td>40.00</td>\n",
       "      <td>13.00</td>\n",
       "      <td>40.00</td>\n",
       "      <td>40.00</td>\n",
       "      <td>40.000</td>\n",
       "    </tr>\n",
       "    <tr>\n",
       "      <th>wage</th>\n",
       "      <td>0.00</td>\n",
       "      <td>0.00</td>\n",
       "      <td>0.00</td>\n",
       "      <td>0.00</td>\n",
       "      <td>0.000</td>\n",
       "    </tr>\n",
       "    <tr>\n",
       "      <th>marital_status_num</th>\n",
       "      <td>0.00</td>\n",
       "      <td>1.00</td>\n",
       "      <td>0.00</td>\n",
       "      <td>1.00</td>\n",
       "      <td>1.000</td>\n",
       "    </tr>\n",
       "    <tr>\n",
       "      <th>occupation_com_House_Services</th>\n",
       "      <td>0.00</td>\n",
       "      <td>0.00</td>\n",
       "      <td>1.00</td>\n",
       "      <td>1.00</td>\n",
       "      <td>0.000</td>\n",
       "    </tr>\n",
       "    <tr>\n",
       "      <th>occupation_com_Other</th>\n",
       "      <td>1.00</td>\n",
       "      <td>0.00</td>\n",
       "      <td>0.00</td>\n",
       "      <td>0.00</td>\n",
       "      <td>0.000</td>\n",
       "    </tr>\n",
       "    <tr>\n",
       "      <th>occupation_com_Professional</th>\n",
       "      <td>0.00</td>\n",
       "      <td>1.00</td>\n",
       "      <td>0.00</td>\n",
       "      <td>0.00</td>\n",
       "      <td>1.000</td>\n",
       "    </tr>\n",
       "    <tr>\n",
       "      <th>occupation_com_Specialty</th>\n",
       "      <td>0.00</td>\n",
       "      <td>0.00</td>\n",
       "      <td>0.00</td>\n",
       "      <td>0.00</td>\n",
       "      <td>0.000</td>\n",
       "    </tr>\n",
       "    <tr>\n",
       "      <th>occupation_com_Tech/sales</th>\n",
       "      <td>0.00</td>\n",
       "      <td>0.00</td>\n",
       "      <td>0.00</td>\n",
       "      <td>0.00</td>\n",
       "      <td>0.000</td>\n",
       "    </tr>\n",
       "    <tr>\n",
       "      <th>workclass_com_ Government</th>\n",
       "      <td>1.00</td>\n",
       "      <td>0.00</td>\n",
       "      <td>0.00</td>\n",
       "      <td>0.00</td>\n",
       "      <td>0.000</td>\n",
       "    </tr>\n",
       "    <tr>\n",
       "      <th>workclass_com_ Other</th>\n",
       "      <td>0.00</td>\n",
       "      <td>0.00</td>\n",
       "      <td>0.00</td>\n",
       "      <td>0.00</td>\n",
       "      <td>0.000</td>\n",
       "    </tr>\n",
       "    <tr>\n",
       "      <th>workclass_com_ Private</th>\n",
       "      <td>0.00</td>\n",
       "      <td>0.00</td>\n",
       "      <td>1.00</td>\n",
       "      <td>1.00</td>\n",
       "      <td>1.000</td>\n",
       "    </tr>\n",
       "    <tr>\n",
       "      <th>workclass_com_ Self-employed</th>\n",
       "      <td>0.00</td>\n",
       "      <td>1.00</td>\n",
       "      <td>0.00</td>\n",
       "      <td>0.00</td>\n",
       "      <td>0.000</td>\n",
       "    </tr>\n",
       "    <tr>\n",
       "      <th>cap_gain_binary</th>\n",
       "      <td>1.00</td>\n",
       "      <td>0.00</td>\n",
       "      <td>0.00</td>\n",
       "      <td>0.00</td>\n",
       "      <td>0.000</td>\n",
       "    </tr>\n",
       "    <tr>\n",
       "      <th>cap_loss_binary</th>\n",
       "      <td>0.00</td>\n",
       "      <td>0.00</td>\n",
       "      <td>0.00</td>\n",
       "      <td>0.00</td>\n",
       "      <td>0.000</td>\n",
       "    </tr>\n",
       "    <tr>\n",
       "      <th>gdp_pc</th>\n",
       "      <td>41524.09</td>\n",
       "      <td>41524.09</td>\n",
       "      <td>41524.09</td>\n",
       "      <td>41524.09</td>\n",
       "      <td>12492.097</td>\n",
       "    </tr>\n",
       "  </tbody>\n",
       "</table>\n",
       "</div>"
      ],
      "text/plain": [
       "                                      0         1         2         3  \\\n",
       "age                               39.00     50.00     38.00     53.00   \n",
       "education-num                     13.00     13.00      9.00      7.00   \n",
       "sex                                1.00      1.00      1.00      1.00   \n",
       "capital-gain                    2174.00      0.00      0.00      0.00   \n",
       "capital-loss                       0.00      0.00      0.00      0.00   \n",
       "hours-per-week                    40.00     13.00     40.00     40.00   \n",
       "wage                               0.00      0.00      0.00      0.00   \n",
       "marital_status_num                 0.00      1.00      0.00      1.00   \n",
       "occupation_com_House_Services      0.00      0.00      1.00      1.00   \n",
       "occupation_com_Other               1.00      0.00      0.00      0.00   \n",
       "occupation_com_Professional        0.00      1.00      0.00      0.00   \n",
       "occupation_com_Specialty           0.00      0.00      0.00      0.00   \n",
       "occupation_com_Tech/sales          0.00      0.00      0.00      0.00   \n",
       "workclass_com_ Government          1.00      0.00      0.00      0.00   \n",
       "workclass_com_ Other               0.00      0.00      0.00      0.00   \n",
       "workclass_com_ Private             0.00      0.00      1.00      1.00   \n",
       "workclass_com_ Self-employed       0.00      1.00      0.00      0.00   \n",
       "cap_gain_binary                    1.00      0.00      0.00      0.00   \n",
       "cap_loss_binary                    0.00      0.00      0.00      0.00   \n",
       "gdp_pc                         41524.09  41524.09  41524.09  41524.09   \n",
       "\n",
       "                                       4  \n",
       "age                               28.000  \n",
       "education-num                     13.000  \n",
       "sex                                1.000  \n",
       "capital-gain                       0.000  \n",
       "capital-loss                       0.000  \n",
       "hours-per-week                    40.000  \n",
       "wage                               0.000  \n",
       "marital_status_num                 1.000  \n",
       "occupation_com_House_Services      0.000  \n",
       "occupation_com_Other               0.000  \n",
       "occupation_com_Professional        1.000  \n",
       "occupation_com_Specialty           0.000  \n",
       "occupation_com_Tech/sales          0.000  \n",
       "workclass_com_ Government          0.000  \n",
       "workclass_com_ Other               0.000  \n",
       "workclass_com_ Private             1.000  \n",
       "workclass_com_ Self-employed       0.000  \n",
       "cap_gain_binary                    0.000  \n",
       "cap_loss_binary                    0.000  \n",
       "gdp_pc                         12492.097  "
      ]
     },
     "execution_count": 7,
     "metadata": {},
     "output_type": "execute_result"
    }
   ],
   "source": [
    "df_data_clean.head().T"
   ]
  },
  {
   "cell_type": "code",
   "execution_count": 8,
   "metadata": {},
   "outputs": [
    {
     "data": {
      "text/plain": [
       "Index(['age', 'education-num', 'sex', 'capital-gain', 'capital-loss',\n",
       "       'hours-per-week', 'wage', 'marital_status_num',\n",
       "       'occupation_com_House_Services', 'occupation_com_Other',\n",
       "       'occupation_com_Professional', 'occupation_com_Specialty',\n",
       "       'occupation_com_Tech/sales', 'workclass_com_ Government',\n",
       "       'workclass_com_ Other', 'workclass_com_ Private',\n",
       "       'workclass_com_ Self-employed', 'cap_gain_binary', 'cap_loss_binary',\n",
       "       'gdp_pc'],\n",
       "      dtype='object')"
      ]
     },
     "execution_count": 8,
     "metadata": {},
     "output_type": "execute_result"
    }
   ],
   "source": [
    "df_data_clean.columns"
   ]
  },
  {
   "cell_type": "code",
   "execution_count": 9,
   "metadata": {},
   "outputs": [],
   "source": [
    "list = ['age', 'education-num', 'sex', 'hours-per-week', 'marital_status_num',\n",
    "       'occupation_com_House_Services',\n",
    "       'occupation_com_Professional', 'occupation_com_Specialty',\n",
    "       'occupation_com_Tech/sales', 'workclass_com_ Government', 'workclass_com_ Private',\n",
    "       'workclass_com_ Self-employed', 'cap_gain_binary', 'cap_loss_binary', 'gdp_pc']"
   ]
  },
  {
   "cell_type": "code",
   "execution_count": 10,
   "metadata": {},
   "outputs": [],
   "source": [
    "# Routine to create a combinations of features combination to try out in a Logistic Regression\n",
    "# set up list data\n",
    "df_data = pd.DataFrame()\n",
    "data = {}\n",
    "\n",
    "ndx = 0\n",
    "ndx_1 = 0\n",
    "\n",
    "\n",
    "while ndx_1 < len(list):\n",
    "#    data = {'name':[list[ndx_1]]}\n",
    "#    df_data = df_data.append(data, ignore_index = True)\n",
    "    ndx += 1\n",
    "    ndx_2 = ndx_1 + 1\n",
    "    while ndx_2 < len(list):\n",
    "        data = {'name':[list[ndx_1],list[ndx_2]]}\n",
    "        df_data = df_data.append(data, ignore_index = True)\n",
    "        ndx_3 = ndx_2 + 1\n",
    "        while ndx_3 < len(list):\n",
    "            data = {'name':[list[ndx_1],list[ndx_2],list[ndx_3]]}\n",
    "            df_data = df_data.append(data, ignore_index = True)\n",
    "            ndx_4 = ndx_3 + 1\n",
    "            while ndx_4 < len(list):\n",
    "                data = {'name':[list[ndx_1],list[ndx_2],list[ndx_3],list[ndx_4]]}\n",
    "                df_data = df_data.append(data, ignore_index = True)\n",
    "                ndx_5 = ndx_4 + 1\n",
    "                while ndx_5 < len(list):\n",
    "                    data = {'name':[list[ndx_1],list[ndx_2],list[ndx_3],list[ndx_4],list[ndx_5]]}\n",
    "                    df_data = df_data.append(data, ignore_index = True)\n",
    "                    ndx_6 = ndx_5 + 1\n",
    "                    while ndx_6 < len(list):\n",
    "                        data = {'name':[list[ndx_1],list[ndx_2],list[ndx_3],list[ndx_4],list[ndx_5],list[ndx_6]]}\n",
    "                        df_data = df_data.append(data, ignore_index = True)\n",
    "                        ndx_7 = ndx_6 + 1\n",
    "                        while ndx_7 < len(list):\n",
    "                            data = {'name':[list[ndx_1],list[ndx_2],list[ndx_3],list[ndx_4],list[ndx_5],list[ndx_6],list[ndx_7]]}\n",
    "                            df_data = df_data.append(data, ignore_index = True)\n",
    "                            ndx_8 = ndx_7 + 1\n",
    "                            while ndx_8 < len(list):\n",
    "                                data = {'name':[list[ndx_1],list[ndx_2],list[ndx_3],list[ndx_4],list[ndx_5],list[ndx_6],list[ndx_7],list[ndx_8]]}\n",
    "                                df_data = df_data.append(data, ignore_index = True)\n",
    "                                ndx_9 = ndx_8 + 1\n",
    "                                while ndx_9 < len(list):\n",
    "                                    data = {'name':[list[ndx_1],list[ndx_2],list[ndx_3],list[ndx_4],list[ndx_5],list[ndx_6],list[ndx_7],list[ndx_8],list[ndx_9]]}\n",
    "                                    df_data = df_data.append(data, ignore_index = True)\n",
    "                                    ndx_10 = ndx_9 + 1\n",
    "                                    while ndx_10 < len(list):\n",
    "                                        data = {'name':[list[ndx_1],list[ndx_2],list[ndx_3],list[ndx_4],list[ndx_5],list[ndx_6],list[ndx_7],list[ndx_8],list[ndx_9],list[ndx_10]]}\n",
    "                                        df_data = df_data.append(data, ignore_index = True)\n",
    "                                        ndx_11 = ndx_10 + 1\n",
    "                                        while ndx_11 < len(list):\n",
    "                                            data = {'name':[list[ndx_1],list[ndx_2],list[ndx_3],list[ndx_4],list[ndx_5],list[ndx_6],list[ndx_7],list[ndx_8],list[ndx_9],list[ndx_10],list[ndx_11]]}\n",
    "                                            df_data = df_data.append(data, ignore_index = True)\n",
    "                                            ndx_12 = ndx_11 + 1\n",
    "                                            while ndx_12 < len(list):\n",
    "                                                data = {'name':[list[ndx_1],list[ndx_2],list[ndx_3],list[ndx_4],list[ndx_5],list[ndx_6],list[ndx_7],list[ndx_8],list[ndx_9],list[ndx_10]]}\n",
    "                                                df_data = df_data.append(data, ignore_index = True)\n",
    "                                                ndx_13 = ndx_12 + 1\n",
    "                                                while ndx_13 < len(list):\n",
    "                                                    data = {'name':[list[ndx_1],list[ndx_2],list[ndx_3],list[ndx_4],list[ndx_5],list[ndx_6],list[ndx_7],list[ndx_8],list[ndx_9],list[ndx_10],list[ndx_11]]}\n",
    "                                                    df_data = df_data.append(data, ignore_index = True)\n",
    "                                                    ndx_14 = ndx_13 + 1\n",
    "                                                    while ndx_14 < len(list):\n",
    "                                                        data = {'name':[list[ndx_1],list[ndx_2],list[ndx_3],list[ndx_4],list[ndx_5],list[ndx_6],list[ndx_7],list[ndx_8],list[ndx_9],list[ndx_10]]}\n",
    "                                                        df_data = df_data.append(data, ignore_index = True)\n",
    "                                                        ndx_15 = ndx_14 + 1\n",
    "                                                        while ndx_15 < len(list):\n",
    "                                                            data = {'name':[list[ndx_1],list[ndx_2],list[ndx_3],list[ndx_4],list[ndx_5],list[ndx_6],list[ndx_7],list[ndx_8],list[ndx_9],list[ndx_10],list[ndx_11]]}\n",
    "                                                            df_data = df_data.append(data, ignore_index = True)\n",
    "                                                            ndx_15 += 1\n",
    "                                                        ndx_14 += 1\n",
    "                                                    ndx_13 += 1      \n",
    "                                                ndx_12 += 1                \n",
    "                                            ndx_11 += 1\n",
    "                                        ndx_10 += 1\n",
    "                                    ndx_9 += 1      \n",
    "                                ndx_8 += 1                \n",
    "                            ndx_7 += 1\n",
    "                        ndx_6 += 1\n",
    "                    ndx_5 += 1      \n",
    "                ndx_4 += 1                \n",
    "            ndx_3 += 1\n",
    "        ndx_2 += 1          \n",
    "    ndx_1 += 1"
   ]
  },
  {
   "cell_type": "code",
   "execution_count": 11,
   "metadata": {},
   "outputs": [],
   "source": [
    "df_results_LogReg = pd.DataFrame(columns=['train_score', 'test_score', 'diff', 'train_f1_score', 'test_f1_score', \n",
    "       'Accuracy', 'Sensitivity', 'Specificity', 'Precision', 'age', 'education-num', 'sex', 'hours-per-week',\n",
    "       'marital_status_num', 'occupation_com_House_Services', 'occupation_com_Professional', 'occupation_com_Specialty',\n",
    "       'occupation_com_Tech/sales', 'workclass_com_ Government', 'workclass_com_ Private',\n",
    "       'workclass_com_ Self-employed', 'cap_gain_binary', 'cap_loss_binary', 'gdp_pc'])"
   ]
  },
  {
   "cell_type": "code",
   "execution_count": null,
   "metadata": {},
   "outputs": [],
   "source": [
    "# This routine will iterate through the list of features combination to get information on \n",
    "#     the training and testing score along with the coeficient with each feature used.\n",
    "ndx = 0\n",
    "y = df_data_clean['wage'] \n",
    "logreg = LogisticRegression(solver='liblinear')\n",
    "\n",
    "while ndx < len(df_data):\n",
    "    X = df_data_clean[df_data['name'][ndx]] \n",
    "    X_train, X_test, y_train, y_test = train_test_split(X, y, test_size=.33, random_state=33)\n",
    "    logreg.fit(X_train, y_train)\n",
    "    \n",
    "    temp_dict = {}\n",
    "\n",
    "    temp_dict = {'train_score': round(logreg.score(X_train, y_train), 4),  \n",
    "                 'test_score': round(logreg.score(X_test, y_test), 4),\n",
    "                 'diff': round(logreg.score(X_train, y_train) - logreg.score(X_test, y_test), 4),\n",
    "                 'train_f1_score': round(f1_score(y_train,logreg.predict(X_train)), 4),  \n",
    "                 'test_f1_score': round(f1_score(y_test,logreg.predict(X_test)), 4)}\n",
    "    \n",
    "    tn, fp, fn, tp = confusion_matrix(y_test, logreg.predict(X_test)).ravel()\n",
    "                 \n",
    "    temp_dict.update({'Accuracy': round((tp+tn)/len(y_test), 4),  \n",
    "                 'Sensitivity': round(tp/(tp+fn), 4), \n",
    "                 'Specificity': round(tn/(tn+fp), 4),     \n",
    "                 'Precision': round(tp/(tp+fp), 4)})     \n",
    "    \n",
    "    ndx_x = 0\n",
    "    while ndx_x < len(X.columns):\n",
    "        temp_dict.update({X.columns.values[ndx_x] : np.round(logreg.coef_[0][ndx_x], 4)})\n",
    "        ndx_x += 1\n",
    "    \n",
    "    df_results_LogReg = df_results_LogReg.append(temp_dict, ignore_index=True)\n",
    "    \n",
    "    ndx += 1 \n",
    "\n"
   ]
  },
  {
   "cell_type": "code",
   "execution_count": 16,
   "metadata": {
    "scrolled": true
   },
   "outputs": [
    {
     "data": {
      "text/html": [
       "<div>\n",
       "<style scoped>\n",
       "    .dataframe tbody tr th:only-of-type {\n",
       "        vertical-align: middle;\n",
       "    }\n",
       "\n",
       "    .dataframe tbody tr th {\n",
       "        vertical-align: top;\n",
       "    }\n",
       "\n",
       "    .dataframe thead th {\n",
       "        text-align: right;\n",
       "    }\n",
       "</style>\n",
       "<table border=\"1\" class=\"dataframe\">\n",
       "  <thead>\n",
       "    <tr style=\"text-align: right;\">\n",
       "      <th></th>\n",
       "      <th>train_score</th>\n",
       "      <th>test_score</th>\n",
       "      <th>diff</th>\n",
       "      <th>train_f1_score</th>\n",
       "      <th>test_f1_score</th>\n",
       "      <th>Accuracy</th>\n",
       "      <th>Sensitivity</th>\n",
       "      <th>Specificity</th>\n",
       "      <th>Precision</th>\n",
       "      <th>age</th>\n",
       "      <th>...</th>\n",
       "      <th>occupation_com_House_Services</th>\n",
       "      <th>occupation_com_Professional</th>\n",
       "      <th>occupation_com_Specialty</th>\n",
       "      <th>occupation_com_Tech/sales</th>\n",
       "      <th>workclass_com_ Government</th>\n",
       "      <th>workclass_com_ Private</th>\n",
       "      <th>workclass_com_ Self-employed</th>\n",
       "      <th>cap_gain_binary</th>\n",
       "      <th>cap_loss_binary</th>\n",
       "      <th>gdp_pc</th>\n",
       "    </tr>\n",
       "  </thead>\n",
       "  <tbody>\n",
       "    <tr>\n",
       "      <th>681</th>\n",
       "      <td>0.8426</td>\n",
       "      <td>0.8339</td>\n",
       "      <td>0.0087</td>\n",
       "      <td>0.6389</td>\n",
       "      <td>0.6175</td>\n",
       "      <td>0.8339</td>\n",
       "      <td>0.5557</td>\n",
       "      <td>0.9224</td>\n",
       "      <td>0.6948</td>\n",
       "      <td>0.0287</td>\n",
       "      <td>...</td>\n",
       "      <td>NaN</td>\n",
       "      <td>1.0085</td>\n",
       "      <td>NaN</td>\n",
       "      <td>0.7019</td>\n",
       "      <td>NaN</td>\n",
       "      <td>0.1340</td>\n",
       "      <td>-0.2111</td>\n",
       "      <td>1.6635</td>\n",
       "      <td>1.1940</td>\n",
       "      <td>NaN</td>\n",
       "    </tr>\n",
       "    <tr>\n",
       "      <th>4752</th>\n",
       "      <td>0.8425</td>\n",
       "      <td>0.8343</td>\n",
       "      <td>0.0082</td>\n",
       "      <td>0.6381</td>\n",
       "      <td>0.6185</td>\n",
       "      <td>0.8343</td>\n",
       "      <td>0.5569</td>\n",
       "      <td>0.9225</td>\n",
       "      <td>0.6956</td>\n",
       "      <td>0.0285</td>\n",
       "      <td>...</td>\n",
       "      <td>NaN</td>\n",
       "      <td>0.9901</td>\n",
       "      <td>NaN</td>\n",
       "      <td>0.6830</td>\n",
       "      <td>0.2877</td>\n",
       "      <td>0.3466</td>\n",
       "      <td>NaN</td>\n",
       "      <td>1.6629</td>\n",
       "      <td>1.1896</td>\n",
       "      <td>NaN</td>\n",
       "    </tr>\n",
       "    <tr>\n",
       "      <th>4776</th>\n",
       "      <td>0.8425</td>\n",
       "      <td>0.8340</td>\n",
       "      <td>0.0086</td>\n",
       "      <td>0.6386</td>\n",
       "      <td>0.6177</td>\n",
       "      <td>0.8340</td>\n",
       "      <td>0.5557</td>\n",
       "      <td>0.9225</td>\n",
       "      <td>0.6951</td>\n",
       "      <td>0.0280</td>\n",
       "      <td>...</td>\n",
       "      <td>NaN</td>\n",
       "      <td>1.0143</td>\n",
       "      <td>NaN</td>\n",
       "      <td>0.7020</td>\n",
       "      <td>NaN</td>\n",
       "      <td>0.1199</td>\n",
       "      <td>-0.2162</td>\n",
       "      <td>1.6598</td>\n",
       "      <td>1.1907</td>\n",
       "      <td>NaN</td>\n",
       "    </tr>\n",
       "    <tr>\n",
       "      <th>4745</th>\n",
       "      <td>0.8424</td>\n",
       "      <td>0.8344</td>\n",
       "      <td>0.0080</td>\n",
       "      <td>0.6382</td>\n",
       "      <td>0.6185</td>\n",
       "      <td>0.8344</td>\n",
       "      <td>0.5565</td>\n",
       "      <td>0.9227</td>\n",
       "      <td>0.6961</td>\n",
       "      <td>0.0285</td>\n",
       "      <td>...</td>\n",
       "      <td>NaN</td>\n",
       "      <td>0.9854</td>\n",
       "      <td>NaN</td>\n",
       "      <td>0.6787</td>\n",
       "      <td>0.3348</td>\n",
       "      <td>0.3935</td>\n",
       "      <td>0.0583</td>\n",
       "      <td>1.6634</td>\n",
       "      <td>1.1900</td>\n",
       "      <td>NaN</td>\n",
       "    </tr>\n",
       "    <tr>\n",
       "      <th>4649</th>\n",
       "      <td>0.8424</td>\n",
       "      <td>0.8346</td>\n",
       "      <td>0.0077</td>\n",
       "      <td>0.6377</td>\n",
       "      <td>0.6181</td>\n",
       "      <td>0.8346</td>\n",
       "      <td>0.5546</td>\n",
       "      <td>0.9237</td>\n",
       "      <td>0.6981</td>\n",
       "      <td>0.0280</td>\n",
       "      <td>...</td>\n",
       "      <td>NaN</td>\n",
       "      <td>1.1047</td>\n",
       "      <td>0.1634</td>\n",
       "      <td>0.7984</td>\n",
       "      <td>NaN</td>\n",
       "      <td>0.0934</td>\n",
       "      <td>-0.2507</td>\n",
       "      <td>1.6600</td>\n",
       "      <td>1.1886</td>\n",
       "      <td>NaN</td>\n",
       "    </tr>\n",
       "  </tbody>\n",
       "</table>\n",
       "<p>5 rows × 24 columns</p>\n",
       "</div>"
      ],
      "text/plain": [
       "      train_score  test_score    diff  train_f1_score  test_f1_score  \\\n",
       "681        0.8426      0.8339  0.0087          0.6389         0.6175   \n",
       "4752       0.8425      0.8343  0.0082          0.6381         0.6185   \n",
       "4776       0.8425      0.8340  0.0086          0.6386         0.6177   \n",
       "4745       0.8424      0.8344  0.0080          0.6382         0.6185   \n",
       "4649       0.8424      0.8346  0.0077          0.6377         0.6181   \n",
       "\n",
       "      Accuracy  Sensitivity  Specificity  Precision     age  ...  \\\n",
       "681     0.8339       0.5557       0.9224     0.6948  0.0287  ...   \n",
       "4752    0.8343       0.5569       0.9225     0.6956  0.0285  ...   \n",
       "4776    0.8340       0.5557       0.9225     0.6951  0.0280  ...   \n",
       "4745    0.8344       0.5565       0.9227     0.6961  0.0285  ...   \n",
       "4649    0.8346       0.5546       0.9237     0.6981  0.0280  ...   \n",
       "\n",
       "      occupation_com_House_Services  occupation_com_Professional  \\\n",
       "681                             NaN                       1.0085   \n",
       "4752                            NaN                       0.9901   \n",
       "4776                            NaN                       1.0143   \n",
       "4745                            NaN                       0.9854   \n",
       "4649                            NaN                       1.1047   \n",
       "\n",
       "      occupation_com_Specialty  occupation_com_Tech/sales  \\\n",
       "681                        NaN                     0.7019   \n",
       "4752                       NaN                     0.6830   \n",
       "4776                       NaN                     0.7020   \n",
       "4745                       NaN                     0.6787   \n",
       "4649                    0.1634                     0.7984   \n",
       "\n",
       "      workclass_com_ Government  workclass_com_ Private  \\\n",
       "681                         NaN                  0.1340   \n",
       "4752                     0.2877                  0.3466   \n",
       "4776                        NaN                  0.1199   \n",
       "4745                     0.3348                  0.3935   \n",
       "4649                        NaN                  0.0934   \n",
       "\n",
       "      workclass_com_ Self-employed  cap_gain_binary  cap_loss_binary  gdp_pc  \n",
       "681                        -0.2111           1.6635           1.1940     NaN  \n",
       "4752                           NaN           1.6629           1.1896     NaN  \n",
       "4776                       -0.2162           1.6598           1.1907     NaN  \n",
       "4745                        0.0583           1.6634           1.1900     NaN  \n",
       "4649                       -0.2507           1.6600           1.1886     NaN  \n",
       "\n",
       "[5 rows x 24 columns]"
      ]
     },
     "execution_count": 16,
     "metadata": {},
     "output_type": "execute_result"
    }
   ],
   "source": [
    "df_results_LogReg.sort_values(by='train_score', ascending = False).head()"
   ]
  },
  {
   "cell_type": "code",
   "execution_count": 17,
   "metadata": {},
   "outputs": [],
   "source": [
    "# save results\n",
    "df_results_LogReg.to_csv('./data/logreg_results.csv', index=False)"
   ]
  },
  {
   "cell_type": "markdown",
   "metadata": {},
   "source": [
    "From the results, the best training score was 0.8426 with a testing score of 0.8339. The f1_test_score was 0.6175.\n",
    "Accuracy: 0.8339, Senitivity: 0.557, Specificity: 0.992, Precision: 0.6948.\n",
    "\n",
    "The best features found was age, education-num, sex, marital_tatus_num, occupation_com_Professional, occupation_com_tech/sales, workclass_com_Government, workclass_com_Private, cap_gain_binary, and cap_loss_binary\n",
    "\n",
    "10 features found."
   ]
  },
  {
   "cell_type": "markdown",
   "metadata": {},
   "source": [
    "# Knn model"
   ]
  },
  {
   "cell_type": "code",
   "execution_count": 18,
   "metadata": {},
   "outputs": [],
   "source": [
    "X = df_data_clean[['age', 'education-num', 'sex',\n",
    "       'hours-per-week', 'marital_status_num',\n",
    "       'occupation_com_House_Services',\n",
    "       'occupation_com_Professional', 'occupation_com_Specialty',\n",
    "       'occupation_com_Tech/sales', 'workclass_com_ Government', 'workclass_com_ Private',\n",
    "       'workclass_com_ Self-employed', 'cap_gain_binary', 'cap_loss_binary',\n",
    "       'gdp_pc']]\n",
    "\n",
    "y = df_data_clean['wage'] "
   ]
  },
  {
   "cell_type": "code",
   "execution_count": 19,
   "metadata": {},
   "outputs": [],
   "source": [
    "X_train, X_test, y_train, y_test = train_test_split(X, y, test_size=.33, random_state=33)"
   ]
  },
  {
   "cell_type": "code",
   "execution_count": 20,
   "metadata": {},
   "outputs": [],
   "source": [
    "# will need to scale the data\n",
    "ss = StandardScaler()\n",
    "X_train_sc = ss.fit_transform(X_train)\n",
    "X_test_sc = ss.transform(X_test)"
   ]
  },
  {
   "cell_type": "code",
   "execution_count": 21,
   "metadata": {},
   "outputs": [],
   "source": [
    "# Instantiate our model (use default parameters).\n",
    "knn = KNeighborsClassifier()"
   ]
  },
  {
   "cell_type": "code",
   "execution_count": 22,
   "metadata": {},
   "outputs": [
    {
     "data": {
      "text/plain": [
       "KNeighborsClassifier(algorithm='auto', leaf_size=30, metric='minkowski',\n",
       "                     metric_params=None, n_jobs=None, n_neighbors=5, p=2,\n",
       "                     weights='uniform')"
      ]
     },
     "execution_count": 22,
     "metadata": {},
     "output_type": "execute_result"
    }
   ],
   "source": [
    "# Fit our model to our data.\n",
    "knn.fit(X_train_sc, y_train)"
   ]
  },
  {
   "cell_type": "markdown",
   "metadata": {},
   "source": [
    "KNeighborsClassifier(algorithm='auto', leaf_size=30, metric='minkowski',\n",
    "                     metric_params=None, n_jobs=None, n_neighbors=5, p=2,\n",
    "                     weights='uniform')"
   ]
  },
  {
   "cell_type": "code",
   "execution_count": 23,
   "metadata": {},
   "outputs": [
    {
     "data": {
      "text/plain": [
       "0.8714187485674995"
      ]
     },
     "execution_count": 23,
     "metadata": {},
     "output_type": "execute_result"
    }
   ],
   "source": [
    "# Get the training score\n",
    "knn.score(X_train_sc, y_train)"
   ]
  },
  {
   "cell_type": "code",
   "execution_count": 24,
   "metadata": {},
   "outputs": [
    {
     "data": {
      "text/plain": [
       "0.8203052298529685"
      ]
     },
     "execution_count": 24,
     "metadata": {},
     "output_type": "execute_result"
    }
   ],
   "source": [
    "# Get the testing score\n",
    "knn.score(X_test_sc, y_test)"
   ]
  },
  {
   "cell_type": "code",
   "execution_count": 25,
   "metadata": {},
   "outputs": [
    {
     "name": "stdout",
     "output_type": "stream",
     "text": [
      "Train F1: 0.72\n",
      "Test F1: 0.607\n"
     ]
    }
   ],
   "source": [
    "f1(knn, X_train_sc, y_train, X_test_sc, y_test)"
   ]
  },
  {
   "cell_type": "code",
   "execution_count": 26,
   "metadata": {},
   "outputs": [
    {
     "name": "stdout",
     "output_type": "stream",
     "text": [
      "Accuracy: 0.82\n",
      "Sensitivity: 0.575\n",
      "Specificity: 0.898\n",
      "Precision: 0.643\n"
     ]
    }
   ],
   "source": [
    "class_metrics(knn, X_test_sc, y_test)"
   ]
  },
  {
   "cell_type": "markdown",
   "metadata": {},
   "source": [
    "From our analysis from all the modeling, we determined that the best model to use was the Knn because it gave us a similiar score, with the best sensitivity. We were looking for a good balance model.\n",
    "\n",
    "The next section is to run the Knn through a few hyperparameters, to get the best values.\n",
    "\n"
   ]
  },
  {
   "cell_type": "markdown",
   "metadata": {},
   "source": [
    "# Knn Through GridSearch\n",
    "\n"
   ]
  },
  {
   "cell_type": "code",
   "execution_count": 27,
   "metadata": {},
   "outputs": [],
   "source": [
    "knn_params = {'n_neighbors' : [3, 5, 15, 25],\n",
    "              'p':[1,2,3]}\n"
   ]
  },
  {
   "cell_type": "code",
   "execution_count": 28,
   "metadata": {},
   "outputs": [],
   "source": [
    "knn_gridsearch = GridSearchCV(KNeighborsClassifier(), \n",
    "                              knn_params, \n",
    "                              cv=5, \n",
    "                              verbose=1)"
   ]
  },
  {
   "cell_type": "code",
   "execution_count": 29,
   "metadata": {},
   "outputs": [
    {
     "name": "stdout",
     "output_type": "stream",
     "text": [
      "Fitting 5 folds for each of 12 candidates, totalling 60 fits\n"
     ]
    },
    {
     "name": "stderr",
     "output_type": "stream",
     "text": [
      "[Parallel(n_jobs=1)]: Using backend SequentialBackend with 1 concurrent workers.\n",
      "[Parallel(n_jobs=1)]: Done  60 out of  60 | elapsed:  1.7min finished\n"
     ]
    }
   ],
   "source": [
    "knn_gridsearch.fit(X_train_sc, y_train);"
   ]
  },
  {
   "cell_type": "code",
   "execution_count": 30,
   "metadata": {},
   "outputs": [
    {
     "data": {
      "text/plain": [
       "{'n_neighbors': 25, 'p': 1}"
      ]
     },
     "execution_count": 30,
     "metadata": {},
     "output_type": "execute_result"
    }
   ],
   "source": [
    "knn_gridsearch.best_params_"
   ]
  },
  {
   "cell_type": "code",
   "execution_count": 31,
   "metadata": {},
   "outputs": [
    {
     "data": {
      "text/plain": [
       "0.849690579876232"
      ]
     },
     "execution_count": 31,
     "metadata": {},
     "output_type": "execute_result"
    }
   ],
   "source": [
    "# Get the training score\n",
    "knn_gridsearch.score(X_train_sc, y_train)"
   ]
  },
  {
   "cell_type": "code",
   "execution_count": 32,
   "metadata": {},
   "outputs": [
    {
     "data": {
      "text/plain": [
       "0.8368695328494323"
      ]
     },
     "execution_count": 32,
     "metadata": {},
     "output_type": "execute_result"
    }
   ],
   "source": [
    "# Get the testing score\n",
    "knn_gridsearch.score(X_test_sc, y_test)"
   ]
  },
  {
   "cell_type": "code",
   "execution_count": 33,
   "metadata": {},
   "outputs": [
    {
     "name": "stdout",
     "output_type": "stream",
     "text": [
      "Train F1: 0.663\n",
      "Test F1: 0.635\n"
     ]
    }
   ],
   "source": [
    "f1(knn_gridsearch, X_train_sc, y_train, X_test_sc, y_test)"
   ]
  },
  {
   "cell_type": "code",
   "execution_count": 34,
   "metadata": {},
   "outputs": [
    {
     "name": "stdout",
     "output_type": "stream",
     "text": [
      "Accuracy: 0.837\n",
      "Sensitivity: 0.589\n",
      "Specificity: 0.916\n",
      "Precision: 0.69\n"
     ]
    }
   ],
   "source": [
    "class_metrics(knn_gridsearch, X_test_sc, y_test)"
   ]
  },
  {
   "cell_type": "markdown",
   "metadata": {},
   "source": [
    "### We will set the n_neighbor to 25 and p to 1  when setting up our testing data\n",
    "\n",
    "code will be in the test_workbook"
   ]
  }
 ],
 "metadata": {
  "kernelspec": {
   "display_name": "Python 3",
   "language": "python",
   "name": "python3"
  },
  "language_info": {
   "codemirror_mode": {
    "name": "ipython",
    "version": 3
   },
   "file_extension": ".py",
   "mimetype": "text/x-python",
   "name": "python",
   "nbconvert_exporter": "python",
   "pygments_lexer": "ipython3",
   "version": "3.7.4"
  }
 },
 "nbformat": 4,
 "nbformat_minor": 2
}
