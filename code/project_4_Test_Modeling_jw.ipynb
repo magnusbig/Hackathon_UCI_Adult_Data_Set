{
 "cells": [
  {
   "cell_type": "markdown",
   "metadata": {},
   "source": [
    "# Project 4 - Hackathon (Predicting Income under Team Features Constraint)\n",
    "\n",
    "* Choose algorithm and choice of samples\n",
    "* Limited to a maximum of 20 features\n",
    "\n",
    "### This exercise is to build the best model possible under those constraints. \n",
    "\n",
    "### The task is to predict if a person's income is in excess of 50,000 dollars given certain profile information, and more specifically to generate predicted probabilities of income being above 50,000 dollars for each row in the test set. The output will be a .csv file with a single column of the probability with 'wage' as a header. The file is to be submitted by the end of the day.\n",
    "\n",
    "### This section is running the choosen model on the test data. \n",
    "\n",
    "The Knn model was choosen for this exercide with the following features and parameters:\n",
    "\n",
    "Features:\n",
    "- age\n",
    "- education-num\n",
    "- sex\n",
    "- hours-per-week\n",
    "- marital_status_num\n",
    "- occupation_com_House_Services\n",
    "- occupation_com_Professional\n",
    "- occupation_com_Specialty\n",
    "- occupation_com_Tech/sales\n",
    "- workclass_com_ Government\n",
    "- workclass_com_ Private\n",
    "- workclass_com_ Self-employed\n",
    "- cap_gain_binary\n",
    "- cap_loss_binary\n",
    "- gdp_pc\n",
    "\n",
    "Parameters:\n",
    "- n_neighbors = 25\n",
    "\n",
    "The data set is the 'test_clean_data.cvs' file. We will set up the knn model with the choosen features and then run the test data. The output will be the 'wage_final_mb_jw_DEN.csv' file that will be used to summit to complete this project.\n",
    " "
   ]
  },
  {
   "cell_type": "code",
   "execution_count": 1,
   "metadata": {},
   "outputs": [],
   "source": [
    "# Import ome important stuff\n",
    "import numpy as np\n",
    "import pandas as pd\n",
    "\n",
    "from scipy import stats\n",
    "\n",
    "from sklearn.model_selection import train_test_split\n",
    "from sklearn.metrics import f1_score\n",
    "\n",
    "from sklearn.metrics import confusion_matrix\n",
    "from sklearn.model_selection import GridSearchCV\n"
   ]
  },
  {
   "cell_type": "code",
   "execution_count": 2,
   "metadata": {},
   "outputs": [],
   "source": [
    "# Import KNeighborsClassifier from sklearn.neighbors\n",
    "from sklearn.neighbors import KNeighborsClassifier\n",
    "\n",
    "# Import StandardScaler from sklearn.preprocessing\n",
    "from sklearn.preprocessing import StandardScaler"
   ]
  },
  {
   "cell_type": "code",
   "execution_count": 3,
   "metadata": {},
   "outputs": [],
   "source": [
    "np.random.seed(33) \n",
    "\n",
    "df_data_clean = pd.read_csv('./data/clean_train.csv')\n",
    "df_test_clean = pd.read_csv('./data/clean_test.csv')"
   ]
  },
  {
   "cell_type": "markdown",
   "metadata": {},
   "source": [
    "# Instantiate and fit model: Knn"
   ]
  },
  {
   "cell_type": "code",
   "execution_count": 4,
   "metadata": {},
   "outputs": [],
   "source": [
    "X = df_data_clean[['age', 'education-num', 'sex',\n",
    "       'hours-per-week', 'marital_status_num',\n",
    "       'occupation_com_House_Services',\n",
    "       'occupation_com_Professional', 'occupation_com_Specialty',\n",
    "       'occupation_com_Tech/sales', 'workclass_com_ Government', 'workclass_com_ Private',\n",
    "       'workclass_com_ Self-employed', 'cap_gain_binary', 'cap_loss_binary',\n",
    "       'gdp_pc']]"
   ]
  },
  {
   "cell_type": "code",
   "execution_count": 5,
   "metadata": {},
   "outputs": [],
   "source": [
    "y = df_data_clean['wage'] "
   ]
  },
  {
   "cell_type": "code",
   "execution_count": 6,
   "metadata": {},
   "outputs": [],
   "source": [
    "X_train, X_test, y_train, y_test = train_test_split(X, y, test_size=.33, random_state=33)"
   ]
  },
  {
   "cell_type": "code",
   "execution_count": 7,
   "metadata": {},
   "outputs": [],
   "source": [
    "# will need to scale the data\n",
    "ss = StandardScaler()\n",
    "X_train_sc = ss.fit_transform(X_train)\n",
    "X_test_sc = ss.transform(X_test)"
   ]
  },
  {
   "cell_type": "code",
   "execution_count": 8,
   "metadata": {},
   "outputs": [],
   "source": [
    "# Instantiate our model.\n",
    "knn = KNeighborsClassifier(n_neighbors = 25)"
   ]
  },
  {
   "cell_type": "code",
   "execution_count": 9,
   "metadata": {},
   "outputs": [],
   "source": [
    "knn.fit(X_train_sc, y_train);"
   ]
  },
  {
   "cell_type": "markdown",
   "metadata": {},
   "source": [
    "# Generate prediction on test data\n"
   ]
  },
  {
   "cell_type": "code",
   "execution_count": 10,
   "metadata": {},
   "outputs": [],
   "source": [
    "X = df_test_clean[['age', 'education-num', 'sex',\n",
    "       'hours-per-week', 'marital_status_num',\n",
    "       'occupation_com_House_Services',\n",
    "       'occupation_com_Professional', 'occupation_com_Specialty',\n",
    "       'occupation_com_Tech/sales', 'workclass_com_ Government', 'workclass_com_ Private',\n",
    "       'workclass_com_ Self-employed', 'cap_gain_binary', 'cap_loss_binary',\n",
    "       'gdp_pc']]"
   ]
  },
  {
   "cell_type": "code",
   "execution_count": 11,
   "metadata": {},
   "outputs": [],
   "source": [
    "X_tran = ss.transform(X)"
   ]
  },
  {
   "cell_type": "code",
   "execution_count": 12,
   "metadata": {},
   "outputs": [],
   "source": [
    "wage_proba = knn.predict_proba(X_tran)"
   ]
  },
  {
   "cell_type": "code",
   "execution_count": 13,
   "metadata": {},
   "outputs": [
    {
     "data": {
      "text/plain": [
       "0.4"
      ]
     },
     "execution_count": 13,
     "metadata": {},
     "output_type": "execute_result"
    }
   ],
   "source": [
    "wage_proba[2][1]"
   ]
  },
  {
   "cell_type": "code",
   "execution_count": 14,
   "metadata": {},
   "outputs": [
    {
     "name": "stdout",
     "output_type": "stream",
     "text": [
      "0.24375161230882628\n"
     ]
    }
   ],
   "source": [
    "wage =[]\n",
    "for i in wage_proba:\n",
    "    wage.append(i[1])\n",
    "    \n",
    "print(np.mean(wage))    "
   ]
  },
  {
   "cell_type": "code",
   "execution_count": 15,
   "metadata": {},
   "outputs": [],
   "source": [
    "wage_final = pd.DataFrame(wage, columns=['wage'])"
   ]
  },
  {
   "cell_type": "markdown",
   "metadata": {},
   "source": [
    "### Save prediction data"
   ]
  },
  {
   "cell_type": "code",
   "execution_count": 29,
   "metadata": {},
   "outputs": [],
   "source": [
    "wage_final.to_csv('./data/wage_final_mb_jw_DEN.csv')"
   ]
  },
  {
   "cell_type": "code",
   "execution_count": null,
   "metadata": {},
   "outputs": [],
   "source": []
  }
 ],
 "metadata": {
  "kernelspec": {
   "display_name": "Python 3",
   "language": "python",
   "name": "python3"
  },
  "language_info": {
   "codemirror_mode": {
    "name": "ipython",
    "version": 3
   },
   "file_extension": ".py",
   "mimetype": "text/x-python",
   "name": "python",
   "nbconvert_exporter": "python",
   "pygments_lexer": "ipython3",
   "version": "3.7.4"
  }
 },
 "nbformat": 4,
 "nbformat_minor": 2
}
